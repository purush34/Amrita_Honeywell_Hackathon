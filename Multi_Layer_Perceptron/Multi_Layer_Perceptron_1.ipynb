{
 "cells": [
  {
   "cell_type": "markdown",
   "metadata": {},
   "source": [
    "# Power Quality Classification using Muti Layer Perceptron (Dataset 1)"
   ]
  },
  {
   "cell_type": "markdown",
   "metadata": {},
   "source": [
    "This notebook focusses on developing a Multi Layer perceptron which classifies a particular power signal into its respective power quality condition. The dataset used here contains signals which belong to one of the 5 classes(power quality condition). The sampling rate of this data is 128. This means that each signal is characterized by 128 data points. Here the signals provided are in time domain.\n",
    "\n",
    "The power quality condition with respect to the output class value is as follows: <br>\n",
    "1 - Normal<br>\n",
    "2 - 3rd harmonic wave<br>\n",
    "3 - 5th harmonic wave<br>\n",
    "4 - Voltage dip<br>\n",
    "5 - transient<br>"
   ]
  },
  {
   "cell_type": "code",
   "execution_count": 1,
   "metadata": {},
   "outputs": [],
   "source": [
    "#importing the required libraries\n",
    "import matplotlib.pyplot as plt\n",
    "import pandas as pd\n",
    "import numpy as np\n",
    "from scipy.fft import fft,fftfreq\n",
    "from sklearn.preprocessing import StandardScaler\n",
    "from tensorflow.keras.models import Sequential\n",
    "from tensorflow.keras.layers import Dense, Dropout, Activation\n",
    "from tensorflow.keras.optimizers import Adam"
   ]
  },
  {
   "cell_type": "code",
   "execution_count": 2,
   "metadata": {},
   "outputs": [],
   "source": [
    "#loading the dataset using pandas\n",
    "data1 = pd.read_csv(\"../Dataset/Train/Voltage_L1_DataSet1.csv\")\n",
    "out1 = pd.read_csv(\"../Dataset/Train/OutputFor_DataSet1.csv\")\n",
    "data2 = pd.read_csv(\"../Dataset/Test/Voltage_L1_DataSet2.csv\")\n",
    "out2 = pd.read_csv(\"../Dataset/Test/OutputFor_DataSet2.csv\")"
   ]
  },
  {
   "cell_type": "code",
   "execution_count": 3,
   "metadata": {},
   "outputs": [
    {
     "name": "stdout",
     "output_type": "stream",
     "text": [
      "data1 (11899, 128)\n",
      "out1 (5999, 1)\n",
      "data2 (5999, 128)\n",
      "out2 (5999, 1)\n"
     ]
    }
   ],
   "source": [
    "print(\"data1\",data1.shape)\n",
    "print(\"out1\",out1.shape)\n",
    "print(\"data2\",data2.shape)\n",
    "print(\"out2\",out2.shape)"
   ]
  },
  {
   "cell_type": "markdown",
   "metadata": {},
   "source": [
    "## Data Preprocessing"
   ]
  },
  {
   "cell_type": "markdown",
   "metadata": {},
   "source": [
    "This segment of notebook contains all the preprocessing steps which are performed on the data."
   ]
  },
  {
   "cell_type": "markdown",
   "metadata": {},
   "source": [
    "### Data cleaning"
   ]
  },
  {
   "cell_type": "code",
   "execution_count": 4,
   "metadata": {},
   "outputs": [],
   "source": [
    "#dropna() function is used to remove all those rows which contains NA values\n",
    "data1.dropna(axis=0,inplace=True)"
   ]
  },
  {
   "cell_type": "code",
   "execution_count": 5,
   "metadata": {},
   "outputs": [
    {
     "data": {
      "text/plain": [
       "(5999, 128)"
      ]
     },
     "execution_count": 5,
     "metadata": {},
     "output_type": "execute_result"
    }
   ],
   "source": [
    "#shape of the data frame after dropping the rows containing NA values\n",
    "data1.shape"
   ]
  },
  {
   "cell_type": "code",
   "execution_count": 6,
   "metadata": {},
   "outputs": [],
   "source": [
    "#here we are constructing the array which will finally contain the column names\n",
    "header =[]\n",
    "for i in range(1,data1.shape[1]+1):\n",
    "    header.append(\"Col\"+str(i))"
   ]
  },
  {
   "cell_type": "code",
   "execution_count": 7,
   "metadata": {},
   "outputs": [],
   "source": [
    "#assigning the column name array to the respectinve dataframes\n",
    "data1.columns = header\n",
    "data2.columns = header"
   ]
  },
  {
   "cell_type": "code",
   "execution_count": 8,
   "metadata": {},
   "outputs": [
    {
     "data": {
      "text/html": [
       "<div>\n",
       "<style scoped>\n",
       "    .dataframe tbody tr th:only-of-type {\n",
       "        vertical-align: middle;\n",
       "    }\n",
       "\n",
       "    .dataframe tbody tr th {\n",
       "        vertical-align: top;\n",
       "    }\n",
       "\n",
       "    .dataframe thead th {\n",
       "        text-align: right;\n",
       "    }\n",
       "</style>\n",
       "<table border=\"1\" class=\"dataframe\">\n",
       "  <thead>\n",
       "    <tr style=\"text-align: right;\">\n",
       "      <th></th>\n",
       "      <th>Col1</th>\n",
       "      <th>Col2</th>\n",
       "      <th>Col3</th>\n",
       "      <th>Col4</th>\n",
       "      <th>Col5</th>\n",
       "      <th>Col6</th>\n",
       "      <th>Col7</th>\n",
       "      <th>Col8</th>\n",
       "      <th>Col9</th>\n",
       "      <th>Col10</th>\n",
       "      <th>...</th>\n",
       "      <th>Col119</th>\n",
       "      <th>Col120</th>\n",
       "      <th>Col121</th>\n",
       "      <th>Col122</th>\n",
       "      <th>Col123</th>\n",
       "      <th>Col124</th>\n",
       "      <th>Col125</th>\n",
       "      <th>Col126</th>\n",
       "      <th>Col127</th>\n",
       "      <th>Col128</th>\n",
       "    </tr>\n",
       "  </thead>\n",
       "  <tbody>\n",
       "    <tr>\n",
       "      <th>0</th>\n",
       "      <td>-797.962914</td>\n",
       "      <td>-1320.199586</td>\n",
       "      <td>-1828.741445</td>\n",
       "      <td>-2319.935857</td>\n",
       "      <td>-2789.218649</td>\n",
       "      <td>-3231.111864</td>\n",
       "      <td>-3641.962908</td>\n",
       "      <td>-4018.119193</td>\n",
       "      <td>-4355.929647</td>\n",
       "      <td>-4650.829055</td>\n",
       "      <td>...</td>\n",
       "      <td>4008.077109</td>\n",
       "      <td>3632.834002</td>\n",
       "      <td>3221.982426</td>\n",
       "      <td>2780.090228</td>\n",
       "      <td>2311.720161</td>\n",
       "      <td>1821.438861</td>\n",
       "      <td>1311.983509</td>\n",
       "      <td>790.659456</td>\n",
       "      <td>262.031836</td>\n",
       "      <td>-269.335205</td>\n",
       "    </tr>\n",
       "    <tr>\n",
       "      <th>1</th>\n",
       "      <td>4387.885674</td>\n",
       "      <td>4567.747164</td>\n",
       "      <td>4693.741356</td>\n",
       "      <td>4776.824895</td>\n",
       "      <td>4824.300958</td>\n",
       "      <td>4850.777519</td>\n",
       "      <td>4862.646175</td>\n",
       "      <td>4867.211521</td>\n",
       "      <td>4866.298624</td>\n",
       "      <td>4858.081691</td>\n",
       "      <td>...</td>\n",
       "      <td>-850.916937</td>\n",
       "      <td>-165.252287</td>\n",
       "      <td>524.062959</td>\n",
       "      <td>1199.684611</td>\n",
       "      <td>1842.437384</td>\n",
       "      <td>2437.714882</td>\n",
       "      <td>2972.733259</td>\n",
       "      <td>3437.450839</td>\n",
       "      <td>3828.215741</td>\n",
       "      <td>4143.201102</td>\n",
       "    </tr>\n",
       "    <tr>\n",
       "      <th>2</th>\n",
       "      <td>-4050.074299</td>\n",
       "      <td>-4340.408587</td>\n",
       "      <td>-4576.875995</td>\n",
       "      <td>-4769.518913</td>\n",
       "      <td>-4918.338175</td>\n",
       "      <td>-5025.159834</td>\n",
       "      <td>-5100.026323</td>\n",
       "      <td>-5141.111052</td>\n",
       "      <td>-5153.892968</td>\n",
       "      <td>-5137.458861</td>\n",
       "      <td>...</td>\n",
       "      <td>1161.338395</td>\n",
       "      <td>563.322919</td>\n",
       "      <td>-47.475988</td>\n",
       "      <td>-656.447463</td>\n",
       "      <td>-1252.637741</td>\n",
       "      <td>-1825.089177</td>\n",
       "      <td>-2364.673580</td>\n",
       "      <td>-2861.346591</td>\n",
       "      <td>-3309.630078</td>\n",
       "      <td>-3706.785897</td>\n",
       "    </tr>\n",
       "    <tr>\n",
       "      <th>3</th>\n",
       "      <td>3458.450134</td>\n",
       "      <td>3686.700705</td>\n",
       "      <td>4000.773209</td>\n",
       "      <td>4392.451258</td>\n",
       "      <td>4834.343975</td>\n",
       "      <td>5269.845213</td>\n",
       "      <td>5636.871457</td>\n",
       "      <td>5876.078192</td>\n",
       "      <td>5950.944421</td>\n",
       "      <td>5841.384319</td>\n",
       "      <td>...</td>\n",
       "      <td>-1450.758930</td>\n",
       "      <td>-722.183210</td>\n",
       "      <td>67.562203</td>\n",
       "      <td>850.005032</td>\n",
       "      <td>1561.232918</td>\n",
       "      <td>2152.858410</td>\n",
       "      <td>2601.141643</td>\n",
       "      <td>2912.474970</td>\n",
       "      <td>3123.378574</td>\n",
       "      <td>3286.805684</td>\n",
       "    </tr>\n",
       "    <tr>\n",
       "      <th>4</th>\n",
       "      <td>-910.262100</td>\n",
       "      <td>-312.245917</td>\n",
       "      <td>298.552078</td>\n",
       "      <td>896.568469</td>\n",
       "      <td>1462.629392</td>\n",
       "      <td>1978.474763</td>\n",
       "      <td>2439.540162</td>\n",
       "      <td>2847.652177</td>\n",
       "      <td>3212.852886</td>\n",
       "      <td>3547.924521</td>\n",
       "      <td>...</td>\n",
       "      <td>-4805.126485</td>\n",
       "      <td>-4506.574476</td>\n",
       "      <td>-4196.154858</td>\n",
       "      <td>-3881.168803</td>\n",
       "      <td>-3560.705563</td>\n",
       "      <td>-3225.633496</td>\n",
       "      <td>-2860.433401</td>\n",
       "      <td>-2452.321914</td>\n",
       "      <td>-1991.255895</td>\n",
       "      <td>-1474.497200</td>\n",
       "    </tr>\n",
       "  </tbody>\n",
       "</table>\n",
       "<p>5 rows × 128 columns</p>\n",
       "</div>"
      ],
      "text/plain": [
       "          Col1         Col2         Col3         Col4         Col5  \\\n",
       "0  -797.962914 -1320.199586 -1828.741445 -2319.935857 -2789.218649   \n",
       "1  4387.885674  4567.747164  4693.741356  4776.824895  4824.300958   \n",
       "2 -4050.074299 -4340.408587 -4576.875995 -4769.518913 -4918.338175   \n",
       "3  3458.450134  3686.700705  4000.773209  4392.451258  4834.343975   \n",
       "4  -910.262100  -312.245917   298.552078   896.568469  1462.629392   \n",
       "\n",
       "          Col6         Col7         Col8         Col9        Col10  ...  \\\n",
       "0 -3231.111864 -3641.962908 -4018.119193 -4355.929647 -4650.829055  ...   \n",
       "1  4850.777519  4862.646175  4867.211521  4866.298624  4858.081691  ...   \n",
       "2 -5025.159834 -5100.026323 -5141.111052 -5153.892968 -5137.458861  ...   \n",
       "3  5269.845213  5636.871457  5876.078192  5950.944421  5841.384319  ...   \n",
       "4  1978.474763  2439.540162  2847.652177  3212.852886  3547.924521  ...   \n",
       "\n",
       "        Col119       Col120       Col121       Col122       Col123  \\\n",
       "0  4008.077109  3632.834002  3221.982426  2780.090228  2311.720161   \n",
       "1  -850.916937  -165.252287   524.062959  1199.684611  1842.437384   \n",
       "2  1161.338395   563.322919   -47.475988  -656.447463 -1252.637741   \n",
       "3 -1450.758930  -722.183210    67.562203   850.005032  1561.232918   \n",
       "4 -4805.126485 -4506.574476 -4196.154858 -3881.168803 -3560.705563   \n",
       "\n",
       "        Col124       Col125       Col126       Col127       Col128  \n",
       "0  1821.438861  1311.983509   790.659456   262.031836  -269.335205  \n",
       "1  2437.714882  2972.733259  3437.450839  3828.215741  4143.201102  \n",
       "2 -1825.089177 -2364.673580 -2861.346591 -3309.630078 -3706.785897  \n",
       "3  2152.858410  2601.141643  2912.474970  3123.378574  3286.805684  \n",
       "4 -3225.633496 -2860.433401 -2452.321914 -1991.255895 -1474.497200  \n",
       "\n",
       "[5 rows x 128 columns]"
      ]
     },
     "execution_count": 8,
     "metadata": {},
     "output_type": "execute_result"
    }
   ],
   "source": [
    "data1.head()"
   ]
  },
  {
   "cell_type": "code",
   "execution_count": 9,
   "metadata": {},
   "outputs": [
    {
     "data": {
      "text/html": [
       "<div>\n",
       "<style scoped>\n",
       "    .dataframe tbody tr th:only-of-type {\n",
       "        vertical-align: middle;\n",
       "    }\n",
       "\n",
       "    .dataframe tbody tr th {\n",
       "        vertical-align: top;\n",
       "    }\n",
       "\n",
       "    .dataframe thead th {\n",
       "        text-align: right;\n",
       "    }\n",
       "</style>\n",
       "<table border=\"1\" class=\"dataframe\">\n",
       "  <thead>\n",
       "    <tr style=\"text-align: right;\">\n",
       "      <th></th>\n",
       "      <th>Col1</th>\n",
       "      <th>Col2</th>\n",
       "      <th>Col3</th>\n",
       "      <th>Col4</th>\n",
       "      <th>Col5</th>\n",
       "      <th>Col6</th>\n",
       "      <th>Col7</th>\n",
       "      <th>Col8</th>\n",
       "      <th>Col9</th>\n",
       "      <th>Col10</th>\n",
       "      <th>...</th>\n",
       "      <th>Col119</th>\n",
       "      <th>Col120</th>\n",
       "      <th>Col121</th>\n",
       "      <th>Col122</th>\n",
       "      <th>Col123</th>\n",
       "      <th>Col124</th>\n",
       "      <th>Col125</th>\n",
       "      <th>Col126</th>\n",
       "      <th>Col127</th>\n",
       "      <th>Col128</th>\n",
       "    </tr>\n",
       "  </thead>\n",
       "  <tbody>\n",
       "    <tr>\n",
       "      <th>0</th>\n",
       "      <td>-4918.927835</td>\n",
       "      <td>-4668.999112</td>\n",
       "      <td>-4375.127119</td>\n",
       "      <td>-4034.564431</td>\n",
       "      <td>-3659.213495</td>\n",
       "      <td>-3247.243211</td>\n",
       "      <td>-2804.145676</td>\n",
       "      <td>-2333.584172</td>\n",
       "      <td>-1841.965323</td>\n",
       "      <td>-1332.037736</td>\n",
       "      <td>...</td>\n",
       "      <td>-4663.506099</td>\n",
       "      <td>-4918.012016</td>\n",
       "      <td>-5121.251501</td>\n",
       "      <td>-5275.969344</td>\n",
       "      <td>-5381.249941</td>\n",
       "      <td>-5433.432863</td>\n",
       "      <td>-5434.348878</td>\n",
       "      <td>-5382.165656</td>\n",
       "      <td>-5278.715575</td>\n",
       "      <td>-5123.997634</td>\n",
       "    </tr>\n",
       "    <tr>\n",
       "      <th>1</th>\n",
       "      <td>2920.413836</td>\n",
       "      <td>2376.612648</td>\n",
       "      <td>1773.304349</td>\n",
       "      <td>1123.306756</td>\n",
       "      <td>444.013104</td>\n",
       "      <td>-248.097664</td>\n",
       "      <td>-933.799415</td>\n",
       "      <td>-1594.783666</td>\n",
       "      <td>-2213.654301</td>\n",
       "      <td>-2776.681104</td>\n",
       "      <td>...</td>\n",
       "      <td>4871.323226</td>\n",
       "      <td>4852.098262</td>\n",
       "      <td>4814.562485</td>\n",
       "      <td>4748.647181</td>\n",
       "      <td>4645.197563</td>\n",
       "      <td>4492.310731</td>\n",
       "      <td>4274.423564</td>\n",
       "      <td>3991.537412</td>\n",
       "      <td>3633.580485</td>\n",
       "      <td>3201.469277</td>\n",
       "    </tr>\n",
       "    <tr>\n",
       "      <th>2</th>\n",
       "      <td>-2808.723170</td>\n",
       "      <td>-2303.372710</td>\n",
       "      <td>-1758.656432</td>\n",
       "      <td>-1180.066319</td>\n",
       "      <td>-579.504820</td>\n",
       "      <td>32.957795</td>\n",
       "      <td>643.590017</td>\n",
       "      <td>1241.404644</td>\n",
       "      <td>1815.417600</td>\n",
       "      <td>2356.471851</td>\n",
       "      <td>...</td>\n",
       "      <td>-5151.462319</td>\n",
       "      <td>-5106.602976</td>\n",
       "      <td>-5027.871511</td>\n",
       "      <td>-4914.350757</td>\n",
       "      <td>-4759.632168</td>\n",
       "      <td>-4565.548254</td>\n",
       "      <td>-4319.281944</td>\n",
       "      <td>-4020.831887</td>\n",
       "      <td>-3671.114971</td>\n",
       "      <td>-3265.552744</td>\n",
       "    </tr>\n",
       "    <tr>\n",
       "      <th>3</th>\n",
       "      <td>2871.892861</td>\n",
       "      <td>2532.245964</td>\n",
       "      <td>2055.275298</td>\n",
       "      <td>1435.488878</td>\n",
       "      <td>704.927781</td>\n",
       "      <td>-86.971408</td>\n",
       "      <td>-871.546088</td>\n",
       "      <td>-1584.713275</td>\n",
       "      <td>-2177.034698</td>\n",
       "      <td>-2625.625239</td>\n",
       "      <td>...</td>\n",
       "      <td>5858.221546</td>\n",
       "      <td>5590.898767</td>\n",
       "      <td>5202.730284</td>\n",
       "      <td>4759.633062</td>\n",
       "      <td>4322.945050</td>\n",
       "      <td>3943.932165</td>\n",
       "      <td>3647.312850</td>\n",
       "      <td>3432.172965</td>\n",
       "      <td>3265.553468</td>\n",
       "      <td>3098.018896</td>\n",
       "    </tr>\n",
       "    <tr>\n",
       "      <th>4</th>\n",
       "      <td>5534.138053</td>\n",
       "      <td>5395.898976</td>\n",
       "      <td>5186.251418</td>\n",
       "      <td>4924.421624</td>\n",
       "      <td>4631.464792</td>\n",
       "      <td>4323.859863</td>\n",
       "      <td>4009.847091</td>\n",
       "      <td>3692.171624</td>\n",
       "      <td>3363.511349</td>\n",
       "      <td>3012.878248</td>\n",
       "      <td>...</td>\n",
       "      <td>3558.510431</td>\n",
       "      <td>3879.847783</td>\n",
       "      <td>4193.860201</td>\n",
       "      <td>4506.042306</td>\n",
       "      <td>4808.154800</td>\n",
       "      <td>5085.548312</td>\n",
       "      <td>5318.082271</td>\n",
       "      <td>5487.448225</td>\n",
       "      <td>5576.250464</td>\n",
       "      <td>5574.419599</td>\n",
       "    </tr>\n",
       "  </tbody>\n",
       "</table>\n",
       "<p>5 rows × 128 columns</p>\n",
       "</div>"
      ],
      "text/plain": [
       "          Col1         Col2         Col3         Col4         Col5  \\\n",
       "0 -4918.927835 -4668.999112 -4375.127119 -4034.564431 -3659.213495   \n",
       "1  2920.413836  2376.612648  1773.304349  1123.306756   444.013104   \n",
       "2 -2808.723170 -2303.372710 -1758.656432 -1180.066319  -579.504820   \n",
       "3  2871.892861  2532.245964  2055.275298  1435.488878   704.927781   \n",
       "4  5534.138053  5395.898976  5186.251418  4924.421624  4631.464792   \n",
       "\n",
       "          Col6         Col7         Col8         Col9        Col10  ...  \\\n",
       "0 -3247.243211 -2804.145676 -2333.584172 -1841.965323 -1332.037736  ...   \n",
       "1  -248.097664  -933.799415 -1594.783666 -2213.654301 -2776.681104  ...   \n",
       "2    32.957795   643.590017  1241.404644  1815.417600  2356.471851  ...   \n",
       "3   -86.971408  -871.546088 -1584.713275 -2177.034698 -2625.625239  ...   \n",
       "4  4323.859863  4009.847091  3692.171624  3363.511349  3012.878248  ...   \n",
       "\n",
       "        Col119       Col120       Col121       Col122       Col123  \\\n",
       "0 -4663.506099 -4918.012016 -5121.251501 -5275.969344 -5381.249941   \n",
       "1  4871.323226  4852.098262  4814.562485  4748.647181  4645.197563   \n",
       "2 -5151.462319 -5106.602976 -5027.871511 -4914.350757 -4759.632168   \n",
       "3  5858.221546  5590.898767  5202.730284  4759.633062  4322.945050   \n",
       "4  3558.510431  3879.847783  4193.860201  4506.042306  4808.154800   \n",
       "\n",
       "        Col124       Col125       Col126       Col127       Col128  \n",
       "0 -5433.432863 -5434.348878 -5382.165656 -5278.715575 -5123.997634  \n",
       "1  4492.310731  4274.423564  3991.537412  3633.580485  3201.469277  \n",
       "2 -4565.548254 -4319.281944 -4020.831887 -3671.114971 -3265.552744  \n",
       "3  3943.932165  3647.312850  3432.172965  3265.553468  3098.018896  \n",
       "4  5085.548312  5318.082271  5487.448225  5576.250464  5574.419599  \n",
       "\n",
       "[5 rows x 128 columns]"
      ]
     },
     "execution_count": 9,
     "metadata": {},
     "output_type": "execute_result"
    }
   ],
   "source": [
    "data2.head()"
   ]
  },
  {
   "cell_type": "code",
   "execution_count": 10,
   "metadata": {},
   "outputs": [
    {
     "data": {
      "text/html": [
       "<div>\n",
       "<style scoped>\n",
       "    .dataframe tbody tr th:only-of-type {\n",
       "        vertical-align: middle;\n",
       "    }\n",
       "\n",
       "    .dataframe tbody tr th {\n",
       "        vertical-align: top;\n",
       "    }\n",
       "\n",
       "    .dataframe thead th {\n",
       "        text-align: right;\n",
       "    }\n",
       "</style>\n",
       "<table border=\"1\" class=\"dataframe\">\n",
       "  <thead>\n",
       "    <tr style=\"text-align: right;\">\n",
       "      <th></th>\n",
       "      <th>Col1</th>\n",
       "      <th>Col2</th>\n",
       "      <th>Col3</th>\n",
       "      <th>Col4</th>\n",
       "      <th>Col5</th>\n",
       "      <th>Col6</th>\n",
       "      <th>Col7</th>\n",
       "      <th>Col8</th>\n",
       "      <th>Col9</th>\n",
       "      <th>Col10</th>\n",
       "      <th>...</th>\n",
       "      <th>Col119</th>\n",
       "      <th>Col120</th>\n",
       "      <th>Col121</th>\n",
       "      <th>Col122</th>\n",
       "      <th>Col123</th>\n",
       "      <th>Col124</th>\n",
       "      <th>Col125</th>\n",
       "      <th>Col126</th>\n",
       "      <th>Col127</th>\n",
       "      <th>Col128</th>\n",
       "    </tr>\n",
       "  </thead>\n",
       "  <tbody>\n",
       "    <tr>\n",
       "      <th>0</th>\n",
       "      <td>-797.962914</td>\n",
       "      <td>-1320.199586</td>\n",
       "      <td>-1828.741445</td>\n",
       "      <td>-2319.935857</td>\n",
       "      <td>-2789.218649</td>\n",
       "      <td>-3231.111864</td>\n",
       "      <td>-3641.962908</td>\n",
       "      <td>-4018.119193</td>\n",
       "      <td>-4355.929647</td>\n",
       "      <td>-4650.829055</td>\n",
       "      <td>...</td>\n",
       "      <td>4008.077109</td>\n",
       "      <td>3632.834002</td>\n",
       "      <td>3221.982426</td>\n",
       "      <td>2780.090228</td>\n",
       "      <td>2311.720161</td>\n",
       "      <td>1821.438861</td>\n",
       "      <td>1311.983509</td>\n",
       "      <td>790.659456</td>\n",
       "      <td>262.031836</td>\n",
       "      <td>-269.335205</td>\n",
       "    </tr>\n",
       "    <tr>\n",
       "      <th>1</th>\n",
       "      <td>4387.885674</td>\n",
       "      <td>4567.747164</td>\n",
       "      <td>4693.741356</td>\n",
       "      <td>4776.824895</td>\n",
       "      <td>4824.300958</td>\n",
       "      <td>4850.777519</td>\n",
       "      <td>4862.646175</td>\n",
       "      <td>4867.211521</td>\n",
       "      <td>4866.298624</td>\n",
       "      <td>4858.081691</td>\n",
       "      <td>...</td>\n",
       "      <td>-850.916937</td>\n",
       "      <td>-165.252287</td>\n",
       "      <td>524.062959</td>\n",
       "      <td>1199.684611</td>\n",
       "      <td>1842.437384</td>\n",
       "      <td>2437.714882</td>\n",
       "      <td>2972.733259</td>\n",
       "      <td>3437.450839</td>\n",
       "      <td>3828.215741</td>\n",
       "      <td>4143.201102</td>\n",
       "    </tr>\n",
       "    <tr>\n",
       "      <th>2</th>\n",
       "      <td>-4050.074299</td>\n",
       "      <td>-4340.408587</td>\n",
       "      <td>-4576.875995</td>\n",
       "      <td>-4769.518913</td>\n",
       "      <td>-4918.338175</td>\n",
       "      <td>-5025.159834</td>\n",
       "      <td>-5100.026323</td>\n",
       "      <td>-5141.111052</td>\n",
       "      <td>-5153.892968</td>\n",
       "      <td>-5137.458861</td>\n",
       "      <td>...</td>\n",
       "      <td>1161.338395</td>\n",
       "      <td>563.322919</td>\n",
       "      <td>-47.475988</td>\n",
       "      <td>-656.447463</td>\n",
       "      <td>-1252.637741</td>\n",
       "      <td>-1825.089177</td>\n",
       "      <td>-2364.673580</td>\n",
       "      <td>-2861.346591</td>\n",
       "      <td>-3309.630078</td>\n",
       "      <td>-3706.785897</td>\n",
       "    </tr>\n",
       "    <tr>\n",
       "      <th>3</th>\n",
       "      <td>3458.450134</td>\n",
       "      <td>3686.700705</td>\n",
       "      <td>4000.773209</td>\n",
       "      <td>4392.451258</td>\n",
       "      <td>4834.343975</td>\n",
       "      <td>5269.845213</td>\n",
       "      <td>5636.871457</td>\n",
       "      <td>5876.078192</td>\n",
       "      <td>5950.944421</td>\n",
       "      <td>5841.384319</td>\n",
       "      <td>...</td>\n",
       "      <td>-1450.758930</td>\n",
       "      <td>-722.183210</td>\n",
       "      <td>67.562203</td>\n",
       "      <td>850.005032</td>\n",
       "      <td>1561.232918</td>\n",
       "      <td>2152.858410</td>\n",
       "      <td>2601.141643</td>\n",
       "      <td>2912.474970</td>\n",
       "      <td>3123.378574</td>\n",
       "      <td>3286.805684</td>\n",
       "    </tr>\n",
       "    <tr>\n",
       "      <th>4</th>\n",
       "      <td>-910.262100</td>\n",
       "      <td>-312.245917</td>\n",
       "      <td>298.552078</td>\n",
       "      <td>896.568469</td>\n",
       "      <td>1462.629392</td>\n",
       "      <td>1978.474763</td>\n",
       "      <td>2439.540162</td>\n",
       "      <td>2847.652177</td>\n",
       "      <td>3212.852886</td>\n",
       "      <td>3547.924521</td>\n",
       "      <td>...</td>\n",
       "      <td>-4805.126485</td>\n",
       "      <td>-4506.574476</td>\n",
       "      <td>-4196.154858</td>\n",
       "      <td>-3881.168803</td>\n",
       "      <td>-3560.705563</td>\n",
       "      <td>-3225.633496</td>\n",
       "      <td>-2860.433401</td>\n",
       "      <td>-2452.321914</td>\n",
       "      <td>-1991.255895</td>\n",
       "      <td>-1474.497200</td>\n",
       "    </tr>\n",
       "  </tbody>\n",
       "</table>\n",
       "<p>5 rows × 128 columns</p>\n",
       "</div>"
      ],
      "text/plain": [
       "          Col1         Col2         Col3         Col4         Col5  \\\n",
       "0  -797.962914 -1320.199586 -1828.741445 -2319.935857 -2789.218649   \n",
       "1  4387.885674  4567.747164  4693.741356  4776.824895  4824.300958   \n",
       "2 -4050.074299 -4340.408587 -4576.875995 -4769.518913 -4918.338175   \n",
       "3  3458.450134  3686.700705  4000.773209  4392.451258  4834.343975   \n",
       "4  -910.262100  -312.245917   298.552078   896.568469  1462.629392   \n",
       "\n",
       "          Col6         Col7         Col8         Col9        Col10  ...  \\\n",
       "0 -3231.111864 -3641.962908 -4018.119193 -4355.929647 -4650.829055  ...   \n",
       "1  4850.777519  4862.646175  4867.211521  4866.298624  4858.081691  ...   \n",
       "2 -5025.159834 -5100.026323 -5141.111052 -5153.892968 -5137.458861  ...   \n",
       "3  5269.845213  5636.871457  5876.078192  5950.944421  5841.384319  ...   \n",
       "4  1978.474763  2439.540162  2847.652177  3212.852886  3547.924521  ...   \n",
       "\n",
       "        Col119       Col120       Col121       Col122       Col123  \\\n",
       "0  4008.077109  3632.834002  3221.982426  2780.090228  2311.720161   \n",
       "1  -850.916937  -165.252287   524.062959  1199.684611  1842.437384   \n",
       "2  1161.338395   563.322919   -47.475988  -656.447463 -1252.637741   \n",
       "3 -1450.758930  -722.183210    67.562203   850.005032  1561.232918   \n",
       "4 -4805.126485 -4506.574476 -4196.154858 -3881.168803 -3560.705563   \n",
       "\n",
       "        Col124       Col125       Col126       Col127       Col128  \n",
       "0  1821.438861  1311.983509   790.659456   262.031836  -269.335205  \n",
       "1  2437.714882  2972.733259  3437.450839  3828.215741  4143.201102  \n",
       "2 -1825.089177 -2364.673580 -2861.346591 -3309.630078 -3706.785897  \n",
       "3  2152.858410  2601.141643  2912.474970  3123.378574  3286.805684  \n",
       "4 -3225.633496 -2860.433401 -2452.321914 -1991.255895 -1474.497200  \n",
       "\n",
       "[5 rows x 128 columns]"
      ]
     },
     "execution_count": 10,
     "metadata": {},
     "output_type": "execute_result"
    }
   ],
   "source": [
    "#now we are combining the two dataframes to make a final dataframe\n",
    "data = data1.append(data2, ignore_index = True)\n",
    "data.head()"
   ]
  },
  {
   "cell_type": "code",
   "execution_count": 11,
   "metadata": {},
   "outputs": [
    {
     "data": {
      "text/plain": [
       "(11998, 128)"
      ]
     },
     "execution_count": 11,
     "metadata": {},
     "output_type": "execute_result"
    }
   ],
   "source": [
    "data.shape"
   ]
  },
  {
   "cell_type": "code",
   "execution_count": 12,
   "metadata": {},
   "outputs": [],
   "source": [
    "#here we are giving a name to the output column\n",
    "header_out = [\"output\"]\n",
    "out1.columns = header_out\n",
    "out2.columns = header_out"
   ]
  },
  {
   "cell_type": "code",
   "execution_count": 13,
   "metadata": {},
   "outputs": [
    {
     "data": {
      "text/html": [
       "<div>\n",
       "<style scoped>\n",
       "    .dataframe tbody tr th:only-of-type {\n",
       "        vertical-align: middle;\n",
       "    }\n",
       "\n",
       "    .dataframe tbody tr th {\n",
       "        vertical-align: top;\n",
       "    }\n",
       "\n",
       "    .dataframe thead th {\n",
       "        text-align: right;\n",
       "    }\n",
       "</style>\n",
       "<table border=\"1\" class=\"dataframe\">\n",
       "  <thead>\n",
       "    <tr style=\"text-align: right;\">\n",
       "      <th></th>\n",
       "      <th>output</th>\n",
       "    </tr>\n",
       "  </thead>\n",
       "  <tbody>\n",
       "    <tr>\n",
       "      <th>0</th>\n",
       "      <td>1</td>\n",
       "    </tr>\n",
       "    <tr>\n",
       "      <th>1</th>\n",
       "      <td>2</td>\n",
       "    </tr>\n",
       "    <tr>\n",
       "      <th>2</th>\n",
       "      <td>2</td>\n",
       "    </tr>\n",
       "    <tr>\n",
       "      <th>3</th>\n",
       "      <td>3</td>\n",
       "    </tr>\n",
       "    <tr>\n",
       "      <th>4</th>\n",
       "      <td>3</td>\n",
       "    </tr>\n",
       "  </tbody>\n",
       "</table>\n",
       "</div>"
      ],
      "text/plain": [
       "   output\n",
       "0       1\n",
       "1       2\n",
       "2       2\n",
       "3       3\n",
       "4       3"
      ]
     },
     "execution_count": 13,
     "metadata": {},
     "output_type": "execute_result"
    }
   ],
   "source": [
    "out2.head()"
   ]
  },
  {
   "cell_type": "code",
   "execution_count": 14,
   "metadata": {},
   "outputs": [
    {
     "data": {
      "text/html": [
       "<div>\n",
       "<style scoped>\n",
       "    .dataframe tbody tr th:only-of-type {\n",
       "        vertical-align: middle;\n",
       "    }\n",
       "\n",
       "    .dataframe tbody tr th {\n",
       "        vertical-align: top;\n",
       "    }\n",
       "\n",
       "    .dataframe thead th {\n",
       "        text-align: right;\n",
       "    }\n",
       "</style>\n",
       "<table border=\"1\" class=\"dataframe\">\n",
       "  <thead>\n",
       "    <tr style=\"text-align: right;\">\n",
       "      <th></th>\n",
       "      <th>output</th>\n",
       "    </tr>\n",
       "  </thead>\n",
       "  <tbody>\n",
       "    <tr>\n",
       "      <th>0</th>\n",
       "      <td>1</td>\n",
       "    </tr>\n",
       "    <tr>\n",
       "      <th>1</th>\n",
       "      <td>2</td>\n",
       "    </tr>\n",
       "    <tr>\n",
       "      <th>2</th>\n",
       "      <td>2</td>\n",
       "    </tr>\n",
       "    <tr>\n",
       "      <th>3</th>\n",
       "      <td>3</td>\n",
       "    </tr>\n",
       "    <tr>\n",
       "      <th>4</th>\n",
       "      <td>3</td>\n",
       "    </tr>\n",
       "  </tbody>\n",
       "</table>\n",
       "</div>"
      ],
      "text/plain": [
       "   output\n",
       "0       1\n",
       "1       2\n",
       "2       2\n",
       "3       3\n",
       "4       3"
      ]
     },
     "execution_count": 14,
     "metadata": {},
     "output_type": "execute_result"
    }
   ],
   "source": [
    "#now we are combining the output columns\n",
    "output = out1.append(out2, ignore_index = True)\n",
    "output.head()"
   ]
  },
  {
   "cell_type": "code",
   "execution_count": 15,
   "metadata": {},
   "outputs": [
    {
     "data": {
      "text/plain": [
       "(11998, 1)"
      ]
     },
     "execution_count": 15,
     "metadata": {},
     "output_type": "execute_result"
    }
   ],
   "source": [
    "output.shape"
   ]
  },
  {
   "cell_type": "code",
   "execution_count": 16,
   "metadata": {},
   "outputs": [],
   "source": [
    "#now we are appending the output column to the original dataframe which contains the power signals\n",
    "data['output'] = output"
   ]
  },
  {
   "cell_type": "code",
   "execution_count": 17,
   "metadata": {},
   "outputs": [
    {
     "data": {
      "text/html": [
       "<div>\n",
       "<style scoped>\n",
       "    .dataframe tbody tr th:only-of-type {\n",
       "        vertical-align: middle;\n",
       "    }\n",
       "\n",
       "    .dataframe tbody tr th {\n",
       "        vertical-align: top;\n",
       "    }\n",
       "\n",
       "    .dataframe thead th {\n",
       "        text-align: right;\n",
       "    }\n",
       "</style>\n",
       "<table border=\"1\" class=\"dataframe\">\n",
       "  <thead>\n",
       "    <tr style=\"text-align: right;\">\n",
       "      <th></th>\n",
       "      <th>Col1</th>\n",
       "      <th>Col2</th>\n",
       "      <th>Col3</th>\n",
       "      <th>Col4</th>\n",
       "      <th>Col5</th>\n",
       "      <th>Col6</th>\n",
       "      <th>Col7</th>\n",
       "      <th>Col8</th>\n",
       "      <th>Col9</th>\n",
       "      <th>Col10</th>\n",
       "      <th>...</th>\n",
       "      <th>Col120</th>\n",
       "      <th>Col121</th>\n",
       "      <th>Col122</th>\n",
       "      <th>Col123</th>\n",
       "      <th>Col124</th>\n",
       "      <th>Col125</th>\n",
       "      <th>Col126</th>\n",
       "      <th>Col127</th>\n",
       "      <th>Col128</th>\n",
       "      <th>output</th>\n",
       "    </tr>\n",
       "  </thead>\n",
       "  <tbody>\n",
       "    <tr>\n",
       "      <th>0</th>\n",
       "      <td>-797.962914</td>\n",
       "      <td>-1320.199586</td>\n",
       "      <td>-1828.741445</td>\n",
       "      <td>-2319.935857</td>\n",
       "      <td>-2789.218649</td>\n",
       "      <td>-3231.111864</td>\n",
       "      <td>-3641.962908</td>\n",
       "      <td>-4018.119193</td>\n",
       "      <td>-4355.929647</td>\n",
       "      <td>-4650.829055</td>\n",
       "      <td>...</td>\n",
       "      <td>3632.834002</td>\n",
       "      <td>3221.982426</td>\n",
       "      <td>2780.090228</td>\n",
       "      <td>2311.720161</td>\n",
       "      <td>1821.438861</td>\n",
       "      <td>1311.983509</td>\n",
       "      <td>790.659456</td>\n",
       "      <td>262.031836</td>\n",
       "      <td>-269.335205</td>\n",
       "      <td>1</td>\n",
       "    </tr>\n",
       "    <tr>\n",
       "      <th>1</th>\n",
       "      <td>4387.885674</td>\n",
       "      <td>4567.747164</td>\n",
       "      <td>4693.741356</td>\n",
       "      <td>4776.824895</td>\n",
       "      <td>4824.300958</td>\n",
       "      <td>4850.777519</td>\n",
       "      <td>4862.646175</td>\n",
       "      <td>4867.211521</td>\n",
       "      <td>4866.298624</td>\n",
       "      <td>4858.081691</td>\n",
       "      <td>...</td>\n",
       "      <td>-165.252287</td>\n",
       "      <td>524.062959</td>\n",
       "      <td>1199.684611</td>\n",
       "      <td>1842.437384</td>\n",
       "      <td>2437.714882</td>\n",
       "      <td>2972.733259</td>\n",
       "      <td>3437.450839</td>\n",
       "      <td>3828.215741</td>\n",
       "      <td>4143.201102</td>\n",
       "      <td>2</td>\n",
       "    </tr>\n",
       "    <tr>\n",
       "      <th>2</th>\n",
       "      <td>-4050.074299</td>\n",
       "      <td>-4340.408587</td>\n",
       "      <td>-4576.875995</td>\n",
       "      <td>-4769.518913</td>\n",
       "      <td>-4918.338175</td>\n",
       "      <td>-5025.159834</td>\n",
       "      <td>-5100.026323</td>\n",
       "      <td>-5141.111052</td>\n",
       "      <td>-5153.892968</td>\n",
       "      <td>-5137.458861</td>\n",
       "      <td>...</td>\n",
       "      <td>563.322919</td>\n",
       "      <td>-47.475988</td>\n",
       "      <td>-656.447463</td>\n",
       "      <td>-1252.637741</td>\n",
       "      <td>-1825.089177</td>\n",
       "      <td>-2364.673580</td>\n",
       "      <td>-2861.346591</td>\n",
       "      <td>-3309.630078</td>\n",
       "      <td>-3706.785897</td>\n",
       "      <td>2</td>\n",
       "    </tr>\n",
       "    <tr>\n",
       "      <th>3</th>\n",
       "      <td>3458.450134</td>\n",
       "      <td>3686.700705</td>\n",
       "      <td>4000.773209</td>\n",
       "      <td>4392.451258</td>\n",
       "      <td>4834.343975</td>\n",
       "      <td>5269.845213</td>\n",
       "      <td>5636.871457</td>\n",
       "      <td>5876.078192</td>\n",
       "      <td>5950.944421</td>\n",
       "      <td>5841.384319</td>\n",
       "      <td>...</td>\n",
       "      <td>-722.183210</td>\n",
       "      <td>67.562203</td>\n",
       "      <td>850.005032</td>\n",
       "      <td>1561.232918</td>\n",
       "      <td>2152.858410</td>\n",
       "      <td>2601.141643</td>\n",
       "      <td>2912.474970</td>\n",
       "      <td>3123.378574</td>\n",
       "      <td>3286.805684</td>\n",
       "      <td>3</td>\n",
       "    </tr>\n",
       "    <tr>\n",
       "      <th>4</th>\n",
       "      <td>-910.262100</td>\n",
       "      <td>-312.245917</td>\n",
       "      <td>298.552078</td>\n",
       "      <td>896.568469</td>\n",
       "      <td>1462.629392</td>\n",
       "      <td>1978.474763</td>\n",
       "      <td>2439.540162</td>\n",
       "      <td>2847.652177</td>\n",
       "      <td>3212.852886</td>\n",
       "      <td>3547.924521</td>\n",
       "      <td>...</td>\n",
       "      <td>-4506.574476</td>\n",
       "      <td>-4196.154858</td>\n",
       "      <td>-3881.168803</td>\n",
       "      <td>-3560.705563</td>\n",
       "      <td>-3225.633496</td>\n",
       "      <td>-2860.433401</td>\n",
       "      <td>-2452.321914</td>\n",
       "      <td>-1991.255895</td>\n",
       "      <td>-1474.497200</td>\n",
       "      <td>3</td>\n",
       "    </tr>\n",
       "  </tbody>\n",
       "</table>\n",
       "<p>5 rows × 129 columns</p>\n",
       "</div>"
      ],
      "text/plain": [
       "          Col1         Col2         Col3         Col4         Col5  \\\n",
       "0  -797.962914 -1320.199586 -1828.741445 -2319.935857 -2789.218649   \n",
       "1  4387.885674  4567.747164  4693.741356  4776.824895  4824.300958   \n",
       "2 -4050.074299 -4340.408587 -4576.875995 -4769.518913 -4918.338175   \n",
       "3  3458.450134  3686.700705  4000.773209  4392.451258  4834.343975   \n",
       "4  -910.262100  -312.245917   298.552078   896.568469  1462.629392   \n",
       "\n",
       "          Col6         Col7         Col8         Col9        Col10  ...  \\\n",
       "0 -3231.111864 -3641.962908 -4018.119193 -4355.929647 -4650.829055  ...   \n",
       "1  4850.777519  4862.646175  4867.211521  4866.298624  4858.081691  ...   \n",
       "2 -5025.159834 -5100.026323 -5141.111052 -5153.892968 -5137.458861  ...   \n",
       "3  5269.845213  5636.871457  5876.078192  5950.944421  5841.384319  ...   \n",
       "4  1978.474763  2439.540162  2847.652177  3212.852886  3547.924521  ...   \n",
       "\n",
       "        Col120       Col121       Col122       Col123       Col124  \\\n",
       "0  3632.834002  3221.982426  2780.090228  2311.720161  1821.438861   \n",
       "1  -165.252287   524.062959  1199.684611  1842.437384  2437.714882   \n",
       "2   563.322919   -47.475988  -656.447463 -1252.637741 -1825.089177   \n",
       "3  -722.183210    67.562203   850.005032  1561.232918  2152.858410   \n",
       "4 -4506.574476 -4196.154858 -3881.168803 -3560.705563 -3225.633496   \n",
       "\n",
       "        Col125       Col126       Col127       Col128  output  \n",
       "0  1311.983509   790.659456   262.031836  -269.335205       1  \n",
       "1  2972.733259  3437.450839  3828.215741  4143.201102       2  \n",
       "2 -2364.673580 -2861.346591 -3309.630078 -3706.785897       2  \n",
       "3  2601.141643  2912.474970  3123.378574  3286.805684       3  \n",
       "4 -2860.433401 -2452.321914 -1991.255895 -1474.497200       3  \n",
       "\n",
       "[5 rows x 129 columns]"
      ]
     },
     "execution_count": 17,
     "metadata": {},
     "output_type": "execute_result"
    }
   ],
   "source": [
    "data.head()"
   ]
  },
  {
   "cell_type": "code",
   "execution_count": 18,
   "metadata": {},
   "outputs": [],
   "source": [
    "data_arr = data.to_numpy()"
   ]
  },
  {
   "cell_type": "markdown",
   "metadata": {},
   "source": [
    "### Data transformation"
   ]
  },
  {
   "cell_type": "markdown",
   "metadata": {},
   "source": [
    "The data transformation steps employed here are as follows:<br>\n",
    "\n",
    "1) Fourier Transform<br>\n",
    "2) Normalization\n"
   ]
  },
  {
   "cell_type": "code",
   "execution_count": 19,
   "metadata": {},
   "outputs": [
    {
     "name": "stderr",
     "output_type": "stream",
     "text": [
      "<ipython-input-19-f9431be86f11>:3: ComplexWarning: Casting complex values to real discards the imaginary part\n",
      "  w1[0:128] = fft(w1[0:128])\n"
     ]
    },
    {
     "data": {
      "image/png": "[encoded data removed]",
      "text/plain": [
       "<Figure size 432x288 with 1 Axes>"
      ]
     },
     "metadata": {
      "needs_background": "light"
     },
     "output_type": "display_data"
    },
    {
     "name": "stderr",
     "output_type": "stream",
     "text": [
      "<ipython-input-19-f9431be86f11>:10: ComplexWarning: Casting complex values to real discards the imaginary part\n",
      "  w2[0:128] = fft(w2[0:128])\n"
     ]
    },
    {
     "name": "stdout",
     "output_type": "stream",
     "text": [
      "class 1.0 Normal wave\n"
     ]
    },
    {
     "data": {
      "image/png": "[encoded data removed]",
      "text/plain": [
       "<Figure size 432x288 with 1 Axes>"
      ]
     },
     "metadata": {
      "needs_background": "light"
     },
     "output_type": "display_data"
    },
    {
     "name": "stdout",
     "output_type": "stream",
     "text": [
      "class 2.0 3rd harmonic wave\n"
     ]
    },
    {
     "name": "stderr",
     "output_type": "stream",
     "text": [
      "<ipython-input-19-f9431be86f11>:17: ComplexWarning: Casting complex values to real discards the imaginary part\n",
      "  w3[0:128] = fft(w3[0:128])\n"
     ]
    },
    {
     "data": {
      "image/png": "[encoded data removed]",
      "text/plain": [
       "<Figure size 432x288 with 1 Axes>"
      ]
     },
     "metadata": {
      "needs_background": "light"
     },
     "output_type": "display_data"
    },
    {
     "name": "stdout",
     "output_type": "stream",
     "text": [
      "class 3.0 5th harmonic wave\n"
     ]
    },
    {
     "name": "stderr",
     "output_type": "stream",
     "text": [
      "<ipython-input-19-f9431be86f11>:24: ComplexWarning: Casting complex values to real discards the imaginary part\n",
      "  w4[0:128] = fft(w4[0:128])\n"
     ]
    },
    {
     "data": {
      "image/png": "[encoded data removed]",
      "text/plain": [
       "<Figure size 432x288 with 1 Axes>"
      ]
     },
     "metadata": {
      "needs_background": "light"
     },
     "output_type": "display_data"
    },
    {
     "name": "stdout",
     "output_type": "stream",
     "text": [
      "class 4.0 Voltage dip\n"
     ]
    },
    {
     "name": "stderr",
     "output_type": "stream",
     "text": [
      "<ipython-input-19-f9431be86f11>:31: ComplexWarning: Casting complex values to real discards the imaginary part\n",
      "  w5[0:128] = fft(w5[0:128])\n"
     ]
    },
    {
     "data": {
      "image/png": "[encoded data removed]",
      "text/plain": [
       "<Figure size 432x288 with 1 Axes>"
      ]
     },
     "metadata": {
      "needs_background": "light"
     },
     "output_type": "display_data"
    },
    {
     "name": "stdout",
     "output_type": "stream",
     "text": [
      "class 5.0 Transient wave\n"
     ]
    }
   ],
   "source": [
    "#In this segment we are plotting one wave from each class after applying fourier transformation \n",
    "w1 = data_arr[0][0:128]\n",
    "w1[0:128] = fft(w1[0:128])\n",
    "xf = fftfreq(128,1/128)\n",
    "plt.plot(xf, np.abs(w1))\n",
    "plt.show()\n",
    "print(\"class\",data_arr[0][128], \"Normal wave\")\n",
    "\n",
    "w2 = data_arr[1][0:128]\n",
    "w2[0:128] = fft(w2[0:128])\n",
    "xf = fftfreq(128,1/128)\n",
    "plt.plot(xf, np.abs(w2))\n",
    "plt.show()\n",
    "print(\"class\",data_arr[1][128], \"3rd harmonic wave\")\n",
    "\n",
    "w3 = data_arr[3][0:128]\n",
    "w3[0:128] = fft(w3[0:128])\n",
    "xf = fftfreq(128,1/128)\n",
    "plt.plot(xf, np.abs(w3))\n",
    "plt.show()\n",
    "print(\"class\",data_arr[3][128], \"5th harmonic wave\")\n",
    "\n",
    "w4 = data_arr[6][0:128]\n",
    "w4[0:128] = fft(w4[0:128])\n",
    "xf = fftfreq(128,1/128)\n",
    "plt.plot(xf, np.abs(w4))\n",
    "plt.show()\n",
    "print(\"class\",data_arr[6][128], \"Voltage dip\")\n",
    "\n",
    "w5 = data_arr[8][0:128]\n",
    "w5[0:128] = fft(w5[0:128])\n",
    "xf = fftfreq(128,1/128)\n",
    "plt.plot(xf, np.abs(w5))\n",
    "plt.show()\n",
    "print(\"class\",data_arr[8][128], \"Transient wave\")"
   ]
  },
  {
   "cell_type": "code",
   "execution_count": 20,
   "metadata": {},
   "outputs": [
    {
     "name": "stderr",
     "output_type": "stream",
     "text": [
      "<ipython-input-20-6fbb1b1522a7>:4: ComplexWarning: Casting complex values to real discards the imaginary part\n",
      "  data_arr[i][0:64] = fft(data_arr[i][0:64])\n"
     ]
    }
   ],
   "source": [
    "#here we are overwritting the dataframe with the waves which we obtained after doing fourier transformation\n",
    "n = data_arr.shape[0]\n",
    "for i in range(0,n):\n",
    "    data_arr[i][0:64] = fft(data_arr[i][0:64])"
   ]
  },
  {
   "cell_type": "code",
   "execution_count": 21,
   "metadata": {},
   "outputs": [],
   "source": [
    "#here we are performing normalization\n",
    "transform = StandardScaler()\n",
    "data_arr = transform.fit_transform(data_arr)"
   ]
  },
  {
   "cell_type": "code",
   "execution_count": 22,
   "metadata": {},
   "outputs": [],
   "source": [
    "#converting the numpy array back to data frame\n",
    "data = pd.DataFrame(data_arr,columns=header+header_out)"
   ]
  },
  {
   "cell_type": "markdown",
   "metadata": {},
   "source": [
    "## Model creation and training"
   ]
  },
  {
   "cell_type": "code",
   "execution_count": 23,
   "metadata": {},
   "outputs": [],
   "source": [
    "#here we are splitting the dataset in the ratio of 60%,20%,20% (training set,validation set, test set)\n",
    "from sklearn.model_selection import train_test_split\n",
    "x_train, x_test, y_train, y_test = train_test_split(data.loc[:,data.columns != 'output'],data['output'],test_size=0.2)\n",
    "x_train, x_val, y_train, y_val = train_test_split(x_train, y_train, test_size=0.25, random_state=42)\n"
   ]
  },
  {
   "cell_type": "code",
   "execution_count": 24,
   "metadata": {},
   "outputs": [],
   "source": [
    "# get_dummies function is used here to perform one hot encoding of the y_* numpy arrays\n",
    "y_train_hot = pd.get_dummies(y_train)\n",
    "y_test_hot = pd.get_dummies(y_test)\n",
    "y_val_hot = pd.get_dummies(y_val)"
   ]
  },
  {
   "cell_type": "code",
   "execution_count": 25,
   "metadata": {},
   "outputs": [
    {
     "name": "stdout",
     "output_type": "stream",
     "text": [
      "Training (7198, 128)\n",
      "(7198, 5)\n",
      "Validation (2400, 128)\n",
      "(2400, 5)\n",
      "Test (2400, 128)\n",
      "(2400, 5)\n"
     ]
    }
   ],
   "source": [
    "print(\"Training\",x_train.shape)\n",
    "print(y_train_hot.shape)\n",
    "print(\"Validation\",x_val.shape)\n",
    "print(y_val_hot.shape)\n",
    "print(\"Test\",x_test.shape)\n",
    "print(y_test_hot.shape)"
   ]
  },
  {
   "cell_type": "code",
   "execution_count": 26,
   "metadata": {},
   "outputs": [],
   "source": [
    "model = Sequential()\n",
    "model.add(Dense(64, input_shape=(128,), activation = 'relu'))\n",
    "\n",
    "model.add(Dense(32, activation = 'relu'))\n",
    "#model.add(Dropout(0.6))\n",
    "model.add(Dense(16, activation = 'relu'))\n",
    "#model.add(Dropout(0.6))\n",
    "\n",
    "#model.add(Dense(16, activation = 'relu'))\n",
    "#model.add(Dense(32, activation = 'relu'))\n",
    "#model.add(Dropout(0.5))\n",
    "model.add(Dense(5, activation = 'softmax'))\n",
    "model.compile(loss='categorical_crossentropy', metrics=['accuracy'], optimizer='adam')\n"
   ]
  },
  {
   "cell_type": "code",
   "execution_count": 27,
   "metadata": {},
   "outputs": [
    {
     "name": "stdout",
     "output_type": "stream",
     "text": [
      "Model: \"sequential\"\n",
      "_________________________________________________________________\n",
      "Layer (type)                 Output Shape              Param #   \n",
      "=================================================================\n",
      "dense (Dense)                (None, 64)                8256      \n",
      "_________________________________________________________________\n",
      "dense_1 (Dense)              (None, 32)                2080      \n",
      "_________________________________________________________________\n",
      "dense_2 (Dense)              (None, 16)                528       \n",
      "_________________________________________________________________\n",
      "dense_3 (Dense)              (None, 5)                 85        \n",
      "=================================================================\n",
      "Total params: 10,949\n",
      "Trainable params: 10,949\n",
      "Non-trainable params: 0\n",
      "_________________________________________________________________\n"
     ]
    }
   ],
   "source": [
    "model.summary()"
   ]
  },
  {
   "cell_type": "code",
   "execution_count": 28,
   "metadata": {},
   "outputs": [
    {
     "name": "stdout",
     "output_type": "stream",
     "text": [
      "Epoch 1/30\n",
      "113/113 [==============================] - 1s 4ms/step - loss: 1.3666 - accuracy: 0.3967 - val_loss: 0.8370 - val_accuracy: 0.6717\n",
      "Epoch 2/30\n",
      "113/113 [==============================] - 0s 3ms/step - loss: 0.6990 - accuracy: 0.7353 - val_loss: 0.5259 - val_accuracy: 0.8179\n",
      "Epoch 3/30\n",
      "113/113 [==============================] - 0s 2ms/step - loss: 0.4478 - accuracy: 0.8315 - val_loss: 0.4232 - val_accuracy: 0.8583\n",
      "Epoch 4/30\n",
      "113/113 [==============================] - 0s 2ms/step - loss: 0.3450 - accuracy: 0.9050 - val_loss: 0.5414 - val_accuracy: 0.9404\n",
      "Epoch 5/30\n",
      "113/113 [==============================] - 0s 2ms/step - loss: 0.3030 - accuracy: 0.9290 - val_loss: 0.3040 - val_accuracy: 0.9583\n",
      "Epoch 6/30\n",
      "113/113 [==============================] - 0s 2ms/step - loss: 0.1766 - accuracy: 0.9570 - val_loss: 0.4833 - val_accuracy: 0.9500\n",
      "Epoch 7/30\n",
      "113/113 [==============================] - 0s 2ms/step - loss: 0.1601 - accuracy: 0.9529 - val_loss: 0.3875 - val_accuracy: 0.9704\n",
      "Epoch 8/30\n",
      "113/113 [==============================] - 0s 2ms/step - loss: 0.1232 - accuracy: 0.9649 - val_loss: 0.3626 - val_accuracy: 0.9750\n",
      "Epoch 9/30\n",
      "113/113 [==============================] - 0s 1ms/step - loss: 0.1158 - accuracy: 0.9676 - val_loss: 0.3550 - val_accuracy: 0.9812\n",
      "Epoch 10/30\n",
      "113/113 [==============================] - 0s 1ms/step - loss: 0.1051 - accuracy: 0.9719 - val_loss: 0.3636 - val_accuracy: 0.9737\n",
      "Epoch 11/30\n",
      "113/113 [==============================] - 0s 1ms/step - loss: 0.0931 - accuracy: 0.9763 - val_loss: 0.3802 - val_accuracy: 0.9862\n",
      "Epoch 12/30\n",
      "113/113 [==============================] - 0s 1ms/step - loss: 0.0713 - accuracy: 0.9819 - val_loss: 0.3729 - val_accuracy: 0.9879\n",
      "Epoch 13/30\n",
      "113/113 [==============================] - 0s 1ms/step - loss: 0.0740 - accuracy: 0.9804 - val_loss: 0.3893 - val_accuracy: 0.9800\n",
      "Epoch 14/30\n",
      "113/113 [==============================] - 0s 1ms/step - loss: 0.0750 - accuracy: 0.9776 - val_loss: 0.3840 - val_accuracy: 0.9871\n",
      "Epoch 15/30\n",
      "113/113 [==============================] - 0s 1ms/step - loss: 0.0553 - accuracy: 0.9850 - val_loss: 0.4133 - val_accuracy: 0.9775\n",
      "Epoch 16/30\n",
      "113/113 [==============================] - 0s 1ms/step - loss: 0.0616 - accuracy: 0.9795 - val_loss: 0.3980 - val_accuracy: 0.9921\n",
      "Epoch 17/30\n",
      "113/113 [==============================] - 0s 2ms/step - loss: 0.0503 - accuracy: 0.9867 - val_loss: 0.4329 - val_accuracy: 0.9892\n",
      "Epoch 18/30\n",
      "113/113 [==============================] - 0s 1ms/step - loss: 0.0656 - accuracy: 0.9884 - val_loss: 0.4606 - val_accuracy: 0.9908\n",
      "Epoch 19/30\n",
      "113/113 [==============================] - 0s 3ms/step - loss: 0.0594 - accuracy: 0.9860 - val_loss: 0.4408 - val_accuracy: 0.9900\n",
      "Epoch 20/30\n",
      "113/113 [==============================] - 0s 1ms/step - loss: 0.0352 - accuracy: 0.9917 - val_loss: 0.4520 - val_accuracy: 0.9900\n",
      "Epoch 21/30\n",
      "113/113 [==============================] - 0s 1ms/step - loss: 0.0416 - accuracy: 0.9886 - val_loss: 0.4626 - val_accuracy: 0.9929\n",
      "Epoch 22/30\n",
      "113/113 [==============================] - 0s 1ms/step - loss: 0.0258 - accuracy: 0.9948 - val_loss: 0.4674 - val_accuracy: 0.9933\n",
      "Epoch 23/30\n",
      "113/113 [==============================] - 0s 2ms/step - loss: 0.0319 - accuracy: 0.9923 - val_loss: 0.6091 - val_accuracy: 0.9925\n",
      "Epoch 24/30\n",
      "113/113 [==============================] - 0s 2ms/step - loss: 0.0234 - accuracy: 0.9944 - val_loss: 0.5992 - val_accuracy: 0.9933\n",
      "Epoch 25/30\n",
      "113/113 [==============================] - 0s 1ms/step - loss: 0.0240 - accuracy: 0.9954 - val_loss: 0.5925 - val_accuracy: 0.9925\n",
      "Epoch 26/30\n",
      "113/113 [==============================] - 0s 1ms/step - loss: 0.0274 - accuracy: 0.9932 - val_loss: 0.5614 - val_accuracy: 0.9942\n",
      "Epoch 27/30\n",
      "113/113 [==============================] - 0s 1ms/step - loss: 0.0164 - accuracy: 0.9966 - val_loss: 0.5975 - val_accuracy: 0.9708\n",
      "Epoch 28/30\n",
      "113/113 [==============================] - 0s 1ms/step - loss: 0.0333 - accuracy: 0.9888 - val_loss: 0.6005 - val_accuracy: 0.9879\n",
      "Epoch 29/30\n",
      "113/113 [==============================] - 0s 1ms/step - loss: 0.0309 - accuracy: 0.9927 - val_loss: 0.5821 - val_accuracy: 0.9979\n",
      "Epoch 30/30\n",
      "113/113 [==============================] - 0s 2ms/step - loss: 0.0215 - accuracy: 0.9941 - val_loss: 0.5924 - val_accuracy: 0.9892\n"
     ]
    }
   ],
   "source": [
    "history = model.fit(x_train, y_train_hot, batch_size=64, epochs=30, validation_data=(x_val, y_val_hot))"
   ]
  },
  {
   "cell_type": "code",
   "execution_count": 29,
   "metadata": {},
   "outputs": [
    {
     "name": "stdout",
     "output_type": "stream",
     "text": [
      "['loss', 'accuracy']\n"
     ]
    }
   ],
   "source": [
    "print(model.metrics_names)"
   ]
  },
  {
   "cell_type": "markdown",
   "metadata": {},
   "source": [
    "## Model evaluation"
   ]
  },
  {
   "cell_type": "code",
   "execution_count": 30,
   "metadata": {},
   "outputs": [
    {
     "name": "stdout",
     "output_type": "stream",
     "text": [
      "75/75 [==============================] - 0s 1ms/step - loss: 0.0392 - accuracy: 0.9879\n",
      "Test accuracy is [0.03924763947725296, 0.9879166483879089]\n"
     ]
    }
   ],
   "source": [
    "pred_acc = model.evaluate(x_test,y_test_hot)\n",
    "print(\"Test accuracy is {}\".format(pred_acc))"
   ]
  },
  {
   "cell_type": "code",
   "execution_count": 31,
   "metadata": {},
   "outputs": [
    {
     "name": "stdout",
     "output_type": "stream",
     "text": [
      "[5 2 4 5 5 1 1 5 5 5]\n"
     ]
    }
   ],
   "source": [
    "x_test_arr = x_test.to_numpy()\n",
    "predict = model.predict(x_test_arr[0:10][:])\n",
    "predict_class = np.argmax(predict, axis=1)\n",
    "predict_class = np.array(predict_class.tolist())\n",
    "print(predict_class+1)"
   ]
  },
  {
   "cell_type": "code",
   "execution_count": 32,
   "metadata": {},
   "outputs": [],
   "source": [
    "model.save('model.h5')"
   ]
  }
 ],
 "metadata": {
  "kernelspec": {
   "display_name": "Python 3",
   "language": "python",
   "name": "python3"
  },
  "language_info": {
   "codemirror_mode": {
    "name": "ipython",
    "version": 3
   },
   "file_extension": ".py",
   "mimetype": "text/x-python",
   "name": "python",
   "nbconvert_exporter": "python",
   "pygments_lexer": "ipython3",
   "version": "3.8.3"
  }
 },
 "nbformat": 4,
 "nbformat_minor": 4
}
