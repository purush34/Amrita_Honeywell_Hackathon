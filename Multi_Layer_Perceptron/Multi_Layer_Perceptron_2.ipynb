{
 "cells": [
  {
   "cell_type": "markdown",
   "metadata": {},
   "source": [
    "# Power Quality Classification using Muti Layer Perceptron (Dataset 2)"
   ]
  },
  {
   "cell_type": "markdown",
   "metadata": {},
   "source": [
    "This notebook focusses on developing a Multi Layer perceptron which classifies a particular power signal into its respective power quality condition. The dataset used here contains signals which belong to one of the 6 classes(power quality condition). The sampling rate of this data is 256. This means that each signal is characterized by 256 data points. Here the signals provided are in time domain."
   ]
  },
  {
   "cell_type": "code",
   "execution_count": 1,
   "metadata": {},
   "outputs": [],
   "source": [
    "#importing the required libraries\n",
    "import matplotlib.pyplot as plt\n",
    "import pandas as pd\n",
    "import numpy as np\n",
    "from scipy.fft import fft,fftfreq\n",
    "from sklearn.preprocessing import StandardScaler\n",
    "from tensorflow.keras.models import Sequential\n",
    "from tensorflow.keras.layers import Dense, Dropout, Activation\n",
    "from tensorflow.keras.optimizers import Adam"
   ]
  },
  {
   "cell_type": "code",
   "execution_count": 2,
   "metadata": {},
   "outputs": [],
   "source": [
    "#loading the dataset using pandas\n",
    "x_train = pd.read_csv(\"../Dataset2/Train/Voltage_L1_train.csv\")\n",
    "y_train = pd.read_csv(\"../Dataset2/Train/output_train.csv\")\n",
    "x_test = pd.read_csv(\"../Dataset2/Test/Voltage_L1_test.csv\")\n",
    "y_test = pd.read_csv(\"../Dataset2/Test/output_test.csv\")"
   ]
  },
  {
   "cell_type": "code",
   "execution_count": 3,
   "metadata": {},
   "outputs": [
    {
     "name": "stdout",
     "output_type": "stream",
     "text": [
      "x_train (5999, 256)\n",
      "y_train (5999, 1)\n",
      "x_test (3599, 256)\n",
      "y_test (3599, 1)\n"
     ]
    }
   ],
   "source": [
    "print(\"x_train\",x_train.shape)\n",
    "print(\"y_train\",y_train.shape)\n",
    "print(\"x_test\",x_test.shape)\n",
    "print(\"y_test\",y_test.shape)"
   ]
  },
  {
   "cell_type": "markdown",
   "metadata": {},
   "source": [
    "## Data Preprocessing"
   ]
  },
  {
   "cell_type": "markdown",
   "metadata": {},
   "source": [
    "This segment of notebook contains all the preprocessing steps which are performed on the data."
   ]
  },
  {
   "cell_type": "markdown",
   "metadata": {},
   "source": [
    "### Data cleaning"
   ]
  },
  {
   "cell_type": "code",
   "execution_count": 4,
   "metadata": {},
   "outputs": [],
   "source": [
    "#dropna() function is used to remove all those rows which contains NA values\n",
    "x_train.dropna(axis=0,inplace=True)\n",
    "y_train.dropna(axis=0,inplace=True)\n",
    "x_test.dropna(axis=0,inplace=True)\n",
    "y_test.dropna(axis=0,inplace=True)"
   ]
  },
  {
   "cell_type": "code",
   "execution_count": 5,
   "metadata": {},
   "outputs": [
    {
     "name": "stdout",
     "output_type": "stream",
     "text": [
      "x_train (5999, 256)\n",
      "y_train (5999, 1)\n",
      "x_test (3599, 256)\n",
      "y_test (3599, 1)\n"
     ]
    }
   ],
   "source": [
    "#shape of the data frame after dropping the rows containing NA values\n",
    "print(\"x_train\",x_train.shape)\n",
    "print(\"y_train\",y_train.shape)\n",
    "print(\"x_test\",x_test.shape)\n",
    "print(\"y_test\",y_test.shape)"
   ]
  },
  {
   "cell_type": "code",
   "execution_count": 6,
   "metadata": {},
   "outputs": [],
   "source": [
    "#here we are constructing the array which will finally contain the column names\n",
    "header =[]\n",
    "for i in range(1,x_train.shape[1]+1):\n",
    "    header.append(\"Col\"+str(i))"
   ]
  },
  {
   "cell_type": "code",
   "execution_count": 7,
   "metadata": {},
   "outputs": [],
   "source": [
    "#assigning the column name array to the respectinve dataframes\n",
    "x_train.columns = header\n",
    "x_test.columns = header"
   ]
  },
  {
   "cell_type": "code",
   "execution_count": 8,
   "metadata": {},
   "outputs": [],
   "source": [
    "#assigning the column name array to the respectinve dataframes\n",
    "header = [\"output\"]\n",
    "y_train.columns = header\n",
    "y_test.columns = header"
   ]
  },
  {
   "cell_type": "code",
   "execution_count": 9,
   "metadata": {},
   "outputs": [
    {
     "data": {
      "text/html": [
       "<div>\n",
       "<style scoped>\n",
       "    .dataframe tbody tr th:only-of-type {\n",
       "        vertical-align: middle;\n",
       "    }\n",
       "\n",
       "    .dataframe tbody tr th {\n",
       "        vertical-align: top;\n",
       "    }\n",
       "\n",
       "    .dataframe thead th {\n",
       "        text-align: right;\n",
       "    }\n",
       "</style>\n",
       "<table border=\"1\" class=\"dataframe\">\n",
       "  <thead>\n",
       "    <tr style=\"text-align: right;\">\n",
       "      <th></th>\n",
       "      <th>Col1</th>\n",
       "      <th>Col2</th>\n",
       "      <th>Col3</th>\n",
       "      <th>Col4</th>\n",
       "      <th>Col5</th>\n",
       "      <th>Col6</th>\n",
       "      <th>Col7</th>\n",
       "      <th>Col8</th>\n",
       "      <th>Col9</th>\n",
       "      <th>Col10</th>\n",
       "      <th>...</th>\n",
       "      <th>Col247</th>\n",
       "      <th>Col248</th>\n",
       "      <th>Col249</th>\n",
       "      <th>Col250</th>\n",
       "      <th>Col251</th>\n",
       "      <th>Col252</th>\n",
       "      <th>Col253</th>\n",
       "      <th>Col254</th>\n",
       "      <th>Col255</th>\n",
       "      <th>Col256</th>\n",
       "    </tr>\n",
       "  </thead>\n",
       "  <tbody>\n",
       "    <tr>\n",
       "      <th>0</th>\n",
       "      <td>573.652486</td>\n",
       "      <td>1003.343736</td>\n",
       "      <td>1588.404525</td>\n",
       "      <td>2317.576741</td>\n",
       "      <td>2804.364311</td>\n",
       "      <td>3225.322510</td>\n",
       "      <td>3662.821690</td>\n",
       "      <td>4174.627969</td>\n",
       "      <td>4656.244143</td>\n",
       "      <td>4939.070130</td>\n",
       "      <td>...</td>\n",
       "      <td>-4650.282434</td>\n",
       "      <td>-4228.581226</td>\n",
       "      <td>-3865.609932</td>\n",
       "      <td>-3395.654756</td>\n",
       "      <td>-2933.680470</td>\n",
       "      <td>-2322.450904</td>\n",
       "      <td>-1841.562453</td>\n",
       "      <td>-1282.042025</td>\n",
       "      <td>-601.968217</td>\n",
       "      <td>-156.848367</td>\n",
       "    </tr>\n",
       "    <tr>\n",
       "      <th>1</th>\n",
       "      <td>4757.365183</td>\n",
       "      <td>5264.598912</td>\n",
       "      <td>5428.642486</td>\n",
       "      <td>5650.413073</td>\n",
       "      <td>5939.710012</td>\n",
       "      <td>5911.948067</td>\n",
       "      <td>6147.642171</td>\n",
       "      <td>6076.921501</td>\n",
       "      <td>5958.797444</td>\n",
       "      <td>6053.817701</td>\n",
       "      <td>...</td>\n",
       "      <td>-280.360872</td>\n",
       "      <td>323.325836</td>\n",
       "      <td>861.103019</td>\n",
       "      <td>1415.929276</td>\n",
       "      <td>2007.692919</td>\n",
       "      <td>2561.130303</td>\n",
       "      <td>2960.282598</td>\n",
       "      <td>3619.932691</td>\n",
       "      <td>4008.288701</td>\n",
       "      <td>4422.229911</td>\n",
       "    </tr>\n",
       "    <tr>\n",
       "      <th>2</th>\n",
       "      <td>4242.144824</td>\n",
       "      <td>4644.679402</td>\n",
       "      <td>5013.356532</td>\n",
       "      <td>5229.417051</td>\n",
       "      <td>5534.898007</td>\n",
       "      <td>5797.190678</td>\n",
       "      <td>5930.658682</td>\n",
       "      <td>5960.014599</td>\n",
       "      <td>6055.336310</td>\n",
       "      <td>6103.707793</td>\n",
       "      <td>...</td>\n",
       "      <td>-1256.270585</td>\n",
       "      <td>-616.527428</td>\n",
       "      <td>-67.068193</td>\n",
       "      <td>549.016676</td>\n",
       "      <td>1099.652199</td>\n",
       "      <td>1697.572166</td>\n",
       "      <td>2239.961604</td>\n",
       "      <td>2776.876479</td>\n",
       "      <td>3248.638662</td>\n",
       "      <td>3807.665149</td>\n",
       "    </tr>\n",
       "    <tr>\n",
       "      <th>3</th>\n",
       "      <td>2077.819247</td>\n",
       "      <td>2561.679246</td>\n",
       "      <td>3085.653813</td>\n",
       "      <td>3545.905160</td>\n",
       "      <td>4023.421592</td>\n",
       "      <td>4496.705157</td>\n",
       "      <td>4809.079868</td>\n",
       "      <td>5186.298840</td>\n",
       "      <td>5453.627533</td>\n",
       "      <td>5737.354699</td>\n",
       "      <td>...</td>\n",
       "      <td>-3557.345152</td>\n",
       "      <td>-3017.951179</td>\n",
       "      <td>-2596.647329</td>\n",
       "      <td>-1996.266675</td>\n",
       "      <td>-1467.203661</td>\n",
       "      <td>-885.101101</td>\n",
       "      <td>-329.685256</td>\n",
       "      <td>304.222722</td>\n",
       "      <td>935.528504</td>\n",
       "      <td>1460.127297</td>\n",
       "    </tr>\n",
       "    <tr>\n",
       "      <th>4</th>\n",
       "      <td>3599.645319</td>\n",
       "      <td>4099.944762</td>\n",
       "      <td>4499.282469</td>\n",
       "      <td>4897.875855</td>\n",
       "      <td>5120.077118</td>\n",
       "      <td>5402.227743</td>\n",
       "      <td>5694.801362</td>\n",
       "      <td>5928.683099</td>\n",
       "      <td>5981.616502</td>\n",
       "      <td>6052.006904</td>\n",
       "      <td>...</td>\n",
       "      <td>-2020.240712</td>\n",
       "      <td>-1388.704968</td>\n",
       "      <td>-849.731284</td>\n",
       "      <td>-232.632694</td>\n",
       "      <td>341.406093</td>\n",
       "      <td>854.579135</td>\n",
       "      <td>1528.023058</td>\n",
       "      <td>2002.557438</td>\n",
       "      <td>2576.468343</td>\n",
       "      <td>3036.303600</td>\n",
       "    </tr>\n",
       "  </tbody>\n",
       "</table>\n",
       "<p>5 rows × 256 columns</p>\n",
       "</div>"
      ],
      "text/plain": [
       "          Col1         Col2         Col3         Col4         Col5  \\\n",
       "0   573.652486  1003.343736  1588.404525  2317.576741  2804.364311   \n",
       "1  4757.365183  5264.598912  5428.642486  5650.413073  5939.710012   \n",
       "2  4242.144824  4644.679402  5013.356532  5229.417051  5534.898007   \n",
       "3  2077.819247  2561.679246  3085.653813  3545.905160  4023.421592   \n",
       "4  3599.645319  4099.944762  4499.282469  4897.875855  5120.077118   \n",
       "\n",
       "          Col6         Col7         Col8         Col9        Col10  ...  \\\n",
       "0  3225.322510  3662.821690  4174.627969  4656.244143  4939.070130  ...   \n",
       "1  5911.948067  6147.642171  6076.921501  5958.797444  6053.817701  ...   \n",
       "2  5797.190678  5930.658682  5960.014599  6055.336310  6103.707793  ...   \n",
       "3  4496.705157  4809.079868  5186.298840  5453.627533  5737.354699  ...   \n",
       "4  5402.227743  5694.801362  5928.683099  5981.616502  6052.006904  ...   \n",
       "\n",
       "        Col247       Col248       Col249       Col250       Col251  \\\n",
       "0 -4650.282434 -4228.581226 -3865.609932 -3395.654756 -2933.680470   \n",
       "1  -280.360872   323.325836   861.103019  1415.929276  2007.692919   \n",
       "2 -1256.270585  -616.527428   -67.068193   549.016676  1099.652199   \n",
       "3 -3557.345152 -3017.951179 -2596.647329 -1996.266675 -1467.203661   \n",
       "4 -2020.240712 -1388.704968  -849.731284  -232.632694   341.406093   \n",
       "\n",
       "        Col252       Col253       Col254       Col255       Col256  \n",
       "0 -2322.450904 -1841.562453 -1282.042025  -601.968217  -156.848367  \n",
       "1  2561.130303  2960.282598  3619.932691  4008.288701  4422.229911  \n",
       "2  1697.572166  2239.961604  2776.876479  3248.638662  3807.665149  \n",
       "3  -885.101101  -329.685256   304.222722   935.528504  1460.127297  \n",
       "4   854.579135  1528.023058  2002.557438  2576.468343  3036.303600  \n",
       "\n",
       "[5 rows x 256 columns]"
      ]
     },
     "execution_count": 9,
     "metadata": {},
     "output_type": "execute_result"
    }
   ],
   "source": [
    "x_train.head()"
   ]
  },
  {
   "cell_type": "code",
   "execution_count": 10,
   "metadata": {},
   "outputs": [
    {
     "data": {
      "text/html": [
       "<div>\n",
       "<style scoped>\n",
       "    .dataframe tbody tr th:only-of-type {\n",
       "        vertical-align: middle;\n",
       "    }\n",
       "\n",
       "    .dataframe tbody tr th {\n",
       "        vertical-align: top;\n",
       "    }\n",
       "\n",
       "    .dataframe thead th {\n",
       "        text-align: right;\n",
       "    }\n",
       "</style>\n",
       "<table border=\"1\" class=\"dataframe\">\n",
       "  <thead>\n",
       "    <tr style=\"text-align: right;\">\n",
       "      <th></th>\n",
       "      <th>Col1</th>\n",
       "      <th>Col2</th>\n",
       "      <th>Col3</th>\n",
       "      <th>Col4</th>\n",
       "      <th>Col5</th>\n",
       "      <th>Col6</th>\n",
       "      <th>Col7</th>\n",
       "      <th>Col8</th>\n",
       "      <th>Col9</th>\n",
       "      <th>Col10</th>\n",
       "      <th>...</th>\n",
       "      <th>Col247</th>\n",
       "      <th>Col248</th>\n",
       "      <th>Col249</th>\n",
       "      <th>Col250</th>\n",
       "      <th>Col251</th>\n",
       "      <th>Col252</th>\n",
       "      <th>Col253</th>\n",
       "      <th>Col254</th>\n",
       "      <th>Col255</th>\n",
       "      <th>Col256</th>\n",
       "    </tr>\n",
       "  </thead>\n",
       "  <tbody>\n",
       "    <tr>\n",
       "      <th>0</th>\n",
       "      <td>4216.164293</td>\n",
       "      <td>4550.919227</td>\n",
       "      <td>4885.253969</td>\n",
       "      <td>5265.577080</td>\n",
       "      <td>5634.058181</td>\n",
       "      <td>5690.878844</td>\n",
       "      <td>5984.805444</td>\n",
       "      <td>6083.124480</td>\n",
       "      <td>6024.018340</td>\n",
       "      <td>6144.339029</td>\n",
       "      <td>...</td>\n",
       "      <td>-1279.720481</td>\n",
       "      <td>-672.204610</td>\n",
       "      <td>-35.247405</td>\n",
       "      <td>565.001817</td>\n",
       "      <td>1139.580709</td>\n",
       "      <td>1623.258946</td>\n",
       "      <td>2159.189259</td>\n",
       "      <td>2729.066018</td>\n",
       "      <td>3292.437301</td>\n",
       "      <td>3770.985050</td>\n",
       "    </tr>\n",
       "    <tr>\n",
       "      <th>1</th>\n",
       "      <td>795.638794</td>\n",
       "      <td>1340.736614</td>\n",
       "      <td>1928.805243</td>\n",
       "      <td>2465.916079</td>\n",
       "      <td>3009.942949</td>\n",
       "      <td>3475.153730</td>\n",
       "      <td>3938.568022</td>\n",
       "      <td>4372.781654</td>\n",
       "      <td>4765.603003</td>\n",
       "      <td>5090.817748</td>\n",
       "      <td>...</td>\n",
       "      <td>-4525.083123</td>\n",
       "      <td>-4077.498908</td>\n",
       "      <td>-3630.262875</td>\n",
       "      <td>-3176.648183</td>\n",
       "      <td>-2652.563485</td>\n",
       "      <td>-2135.982927</td>\n",
       "      <td>-1549.968773</td>\n",
       "      <td>-970.063115</td>\n",
       "      <td>-413.973048</td>\n",
       "      <td>202.507328</td>\n",
       "    </tr>\n",
       "    <tr>\n",
       "      <th>2</th>\n",
       "      <td>1220.943267</td>\n",
       "      <td>1770.550513</td>\n",
       "      <td>2318.816674</td>\n",
       "      <td>2850.186275</td>\n",
       "      <td>3357.786987</td>\n",
       "      <td>3848.017230</td>\n",
       "      <td>4274.339651</td>\n",
       "      <td>4669.175893</td>\n",
       "      <td>5027.840955</td>\n",
       "      <td>5329.856655</td>\n",
       "      <td>...</td>\n",
       "      <td>-4214.790563</td>\n",
       "      <td>-3762.024055</td>\n",
       "      <td>-3303.182589</td>\n",
       "      <td>-2802.950592</td>\n",
       "      <td>-2246.516780</td>\n",
       "      <td>-1712.153266</td>\n",
       "      <td>-1120.729328</td>\n",
       "      <td>-553.276475</td>\n",
       "      <td>43.863168</td>\n",
       "      <td>614.870963</td>\n",
       "    </tr>\n",
       "    <tr>\n",
       "      <th>3</th>\n",
       "      <td>1013.772210</td>\n",
       "      <td>1621.783618</td>\n",
       "      <td>2178.146635</td>\n",
       "      <td>2733.460484</td>\n",
       "      <td>3178.151416</td>\n",
       "      <td>3692.797702</td>\n",
       "      <td>4177.895304</td>\n",
       "      <td>4539.640464</td>\n",
       "      <td>4948.873847</td>\n",
       "      <td>5271.862849</td>\n",
       "      <td>...</td>\n",
       "      <td>-4371.401183</td>\n",
       "      <td>-3937.075334</td>\n",
       "      <td>-3502.317297</td>\n",
       "      <td>-2922.179500</td>\n",
       "      <td>-2467.320667</td>\n",
       "      <td>-1904.033355</td>\n",
       "      <td>-1362.385474</td>\n",
       "      <td>-704.032900</td>\n",
       "      <td>-188.518269</td>\n",
       "      <td>466.064827</td>\n",
       "    </tr>\n",
       "    <tr>\n",
       "      <th>4</th>\n",
       "      <td>4490.355896</td>\n",
       "      <td>4862.601717</td>\n",
       "      <td>5235.681699</td>\n",
       "      <td>5401.432840</td>\n",
       "      <td>5741.255908</td>\n",
       "      <td>5840.507807</td>\n",
       "      <td>6030.352157</td>\n",
       "      <td>6037.480783</td>\n",
       "      <td>6109.355580</td>\n",
       "      <td>6000.190091</td>\n",
       "      <td>...</td>\n",
       "      <td>-848.410798</td>\n",
       "      <td>-279.507713</td>\n",
       "      <td>269.777288</td>\n",
       "      <td>853.806015</td>\n",
       "      <td>1410.187144</td>\n",
       "      <td>1977.999116</td>\n",
       "      <td>2621.735468</td>\n",
       "      <td>3069.781180</td>\n",
       "      <td>3624.993700</td>\n",
       "      <td>4116.325633</td>\n",
       "    </tr>\n",
       "  </tbody>\n",
       "</table>\n",
       "<p>5 rows × 256 columns</p>\n",
       "</div>"
      ],
      "text/plain": [
       "          Col1         Col2         Col3         Col4         Col5  \\\n",
       "0  4216.164293  4550.919227  4885.253969  5265.577080  5634.058181   \n",
       "1   795.638794  1340.736614  1928.805243  2465.916079  3009.942949   \n",
       "2  1220.943267  1770.550513  2318.816674  2850.186275  3357.786987   \n",
       "3  1013.772210  1621.783618  2178.146635  2733.460484  3178.151416   \n",
       "4  4490.355896  4862.601717  5235.681699  5401.432840  5741.255908   \n",
       "\n",
       "          Col6         Col7         Col8         Col9        Col10  ...  \\\n",
       "0  5690.878844  5984.805444  6083.124480  6024.018340  6144.339029  ...   \n",
       "1  3475.153730  3938.568022  4372.781654  4765.603003  5090.817748  ...   \n",
       "2  3848.017230  4274.339651  4669.175893  5027.840955  5329.856655  ...   \n",
       "3  3692.797702  4177.895304  4539.640464  4948.873847  5271.862849  ...   \n",
       "4  5840.507807  6030.352157  6037.480783  6109.355580  6000.190091  ...   \n",
       "\n",
       "        Col247       Col248       Col249       Col250       Col251  \\\n",
       "0 -1279.720481  -672.204610   -35.247405   565.001817  1139.580709   \n",
       "1 -4525.083123 -4077.498908 -3630.262875 -3176.648183 -2652.563485   \n",
       "2 -4214.790563 -3762.024055 -3303.182589 -2802.950592 -2246.516780   \n",
       "3 -4371.401183 -3937.075334 -3502.317297 -2922.179500 -2467.320667   \n",
       "4  -848.410798  -279.507713   269.777288   853.806015  1410.187144   \n",
       "\n",
       "        Col252       Col253       Col254       Col255       Col256  \n",
       "0  1623.258946  2159.189259  2729.066018  3292.437301  3770.985050  \n",
       "1 -2135.982927 -1549.968773  -970.063115  -413.973048   202.507328  \n",
       "2 -1712.153266 -1120.729328  -553.276475    43.863168   614.870963  \n",
       "3 -1904.033355 -1362.385474  -704.032900  -188.518269   466.064827  \n",
       "4  1977.999116  2621.735468  3069.781180  3624.993700  4116.325633  \n",
       "\n",
       "[5 rows x 256 columns]"
      ]
     },
     "execution_count": 10,
     "metadata": {},
     "output_type": "execute_result"
    }
   ],
   "source": [
    "x_test.head()"
   ]
  },
  {
   "cell_type": "code",
   "execution_count": 11,
   "metadata": {},
   "outputs": [
    {
     "data": {
      "text/html": [
       "<div>\n",
       "<style scoped>\n",
       "    .dataframe tbody tr th:only-of-type {\n",
       "        vertical-align: middle;\n",
       "    }\n",
       "\n",
       "    .dataframe tbody tr th {\n",
       "        vertical-align: top;\n",
       "    }\n",
       "\n",
       "    .dataframe thead th {\n",
       "        text-align: right;\n",
       "    }\n",
       "</style>\n",
       "<table border=\"1\" class=\"dataframe\">\n",
       "  <thead>\n",
       "    <tr style=\"text-align: right;\">\n",
       "      <th></th>\n",
       "      <th>output</th>\n",
       "    </tr>\n",
       "  </thead>\n",
       "  <tbody>\n",
       "    <tr>\n",
       "      <th>0</th>\n",
       "      <td>1</td>\n",
       "    </tr>\n",
       "    <tr>\n",
       "      <th>1</th>\n",
       "      <td>1</td>\n",
       "    </tr>\n",
       "    <tr>\n",
       "      <th>2</th>\n",
       "      <td>1</td>\n",
       "    </tr>\n",
       "    <tr>\n",
       "      <th>3</th>\n",
       "      <td>1</td>\n",
       "    </tr>\n",
       "    <tr>\n",
       "      <th>4</th>\n",
       "      <td>1</td>\n",
       "    </tr>\n",
       "  </tbody>\n",
       "</table>\n",
       "</div>"
      ],
      "text/plain": [
       "   output\n",
       "0       1\n",
       "1       1\n",
       "2       1\n",
       "3       1\n",
       "4       1"
      ]
     },
     "execution_count": 11,
     "metadata": {},
     "output_type": "execute_result"
    }
   ],
   "source": [
    "y_train.head()"
   ]
  },
  {
   "cell_type": "code",
   "execution_count": 12,
   "metadata": {},
   "outputs": [
    {
     "data": {
      "text/html": [
       "<div>\n",
       "<style scoped>\n",
       "    .dataframe tbody tr th:only-of-type {\n",
       "        vertical-align: middle;\n",
       "    }\n",
       "\n",
       "    .dataframe tbody tr th {\n",
       "        vertical-align: top;\n",
       "    }\n",
       "\n",
       "    .dataframe thead th {\n",
       "        text-align: right;\n",
       "    }\n",
       "</style>\n",
       "<table border=\"1\" class=\"dataframe\">\n",
       "  <thead>\n",
       "    <tr style=\"text-align: right;\">\n",
       "      <th></th>\n",
       "      <th>output</th>\n",
       "    </tr>\n",
       "  </thead>\n",
       "  <tbody>\n",
       "    <tr>\n",
       "      <th>0</th>\n",
       "      <td>1</td>\n",
       "    </tr>\n",
       "    <tr>\n",
       "      <th>1</th>\n",
       "      <td>1</td>\n",
       "    </tr>\n",
       "    <tr>\n",
       "      <th>2</th>\n",
       "      <td>1</td>\n",
       "    </tr>\n",
       "    <tr>\n",
       "      <th>3</th>\n",
       "      <td>1</td>\n",
       "    </tr>\n",
       "    <tr>\n",
       "      <th>4</th>\n",
       "      <td>1</td>\n",
       "    </tr>\n",
       "  </tbody>\n",
       "</table>\n",
       "</div>"
      ],
      "text/plain": [
       "   output\n",
       "0       1\n",
       "1       1\n",
       "2       1\n",
       "3       1\n",
       "4       1"
      ]
     },
     "execution_count": 12,
     "metadata": {},
     "output_type": "execute_result"
    }
   ],
   "source": [
    "y_test.head()"
   ]
  },
  {
   "cell_type": "code",
   "execution_count": 13,
   "metadata": {},
   "outputs": [],
   "source": [
    "#here we are splitting the training set in the ratio of 70%,30% (training set,validation set)\n",
    "from sklearn.model_selection import train_test_split\n",
    "x_train, x_val, y_train, y_val = train_test_split(x_train, y_train, test_size=0.30, random_state=42)"
   ]
  },
  {
   "cell_type": "code",
   "execution_count": 14,
   "metadata": {},
   "outputs": [],
   "source": [
    "# get_dummies function is used here to perform one hot encoding of the y_* numpy arrays\n",
    "y_train_hot = pd.get_dummies(y_train['output'])\n",
    "y_test_hot = pd.get_dummies(y_test['output'])\n",
    "y_val_hot = pd.get_dummies(y_val['output'])"
   ]
  },
  {
   "cell_type": "code",
   "execution_count": 15,
   "metadata": {},
   "outputs": [
    {
     "data": {
      "text/html": [
       "<div>\n",
       "<style scoped>\n",
       "    .dataframe tbody tr th:only-of-type {\n",
       "        vertical-align: middle;\n",
       "    }\n",
       "\n",
       "    .dataframe tbody tr th {\n",
       "        vertical-align: top;\n",
       "    }\n",
       "\n",
       "    .dataframe thead th {\n",
       "        text-align: right;\n",
       "    }\n",
       "</style>\n",
       "<table border=\"1\" class=\"dataframe\">\n",
       "  <thead>\n",
       "    <tr style=\"text-align: right;\">\n",
       "      <th></th>\n",
       "      <th>1</th>\n",
       "      <th>2</th>\n",
       "      <th>3</th>\n",
       "      <th>4</th>\n",
       "      <th>5</th>\n",
       "      <th>6</th>\n",
       "    </tr>\n",
       "  </thead>\n",
       "  <tbody>\n",
       "    <tr>\n",
       "      <th>927</th>\n",
       "      <td>1</td>\n",
       "      <td>0</td>\n",
       "      <td>0</td>\n",
       "      <td>0</td>\n",
       "      <td>0</td>\n",
       "      <td>0</td>\n",
       "    </tr>\n",
       "    <tr>\n",
       "      <th>3256</th>\n",
       "      <td>0</td>\n",
       "      <td>0</td>\n",
       "      <td>0</td>\n",
       "      <td>1</td>\n",
       "      <td>0</td>\n",
       "      <td>0</td>\n",
       "    </tr>\n",
       "    <tr>\n",
       "      <th>45</th>\n",
       "      <td>1</td>\n",
       "      <td>0</td>\n",
       "      <td>0</td>\n",
       "      <td>0</td>\n",
       "      <td>0</td>\n",
       "      <td>0</td>\n",
       "    </tr>\n",
       "    <tr>\n",
       "      <th>1260</th>\n",
       "      <td>0</td>\n",
       "      <td>1</td>\n",
       "      <td>0</td>\n",
       "      <td>0</td>\n",
       "      <td>0</td>\n",
       "      <td>0</td>\n",
       "    </tr>\n",
       "    <tr>\n",
       "      <th>1096</th>\n",
       "      <td>0</td>\n",
       "      <td>1</td>\n",
       "      <td>0</td>\n",
       "      <td>0</td>\n",
       "      <td>0</td>\n",
       "      <td>0</td>\n",
       "    </tr>\n",
       "  </tbody>\n",
       "</table>\n",
       "</div>"
      ],
      "text/plain": [
       "      1  2  3  4  5  6\n",
       "927   1  0  0  0  0  0\n",
       "3256  0  0  0  1  0  0\n",
       "45    1  0  0  0  0  0\n",
       "1260  0  1  0  0  0  0\n",
       "1096  0  1  0  0  0  0"
      ]
     },
     "execution_count": 15,
     "metadata": {},
     "output_type": "execute_result"
    }
   ],
   "source": [
    "y_train_hot.head()"
   ]
  },
  {
   "cell_type": "markdown",
   "metadata": {},
   "source": [
    "### Data transformation"
   ]
  },
  {
   "cell_type": "markdown",
   "metadata": {},
   "source": [
    "The data transformation steps employed here are as follows:<br>\n",
    "\n",
    "1) Fourier Transform<br>\n",
    "2) Normalization"
   ]
  },
  {
   "cell_type": "code",
   "execution_count": 16,
   "metadata": {},
   "outputs": [],
   "source": [
    "x_train = x_train.to_numpy()\n",
    "x_test = x_test.to_numpy()\n",
    "x_val = x_val.to_numpy()"
   ]
  },
  {
   "cell_type": "code",
   "execution_count": 17,
   "metadata": {},
   "outputs": [],
   "source": [
    "#here we are overwritting the dataframe with the respective waves which we obtained after doing fourier \n",
    "#transformation\n",
    "for i in range(0,x_train.shape[0]):\n",
    "    x_train[i][:] = np.abs(fft(x_train[i][:]))\n",
    "    \n",
    "for i in range(0,x_test.shape[0]):\n",
    "    x_test[i][:] = np.abs(fft(x_test[i][:]))\n",
    "\n",
    "for i in range(0,x_val.shape[0]):\n",
    "    x_val[i][:] = np.abs(fft(x_val[i][:]))"
   ]
  },
  {
   "cell_type": "code",
   "execution_count": 18,
   "metadata": {},
   "outputs": [],
   "source": [
    "#here we are performing normalization\n",
    "transform = StandardScaler()\n",
    "x_train_tr = transform.fit_transform(x_train)\n",
    "x_test_tr = transform.fit_transform(x_test)\n",
    "x_val_tr = transform.fit_transform(x_val)"
   ]
  },
  {
   "cell_type": "code",
   "execution_count": 19,
   "metadata": {},
   "outputs": [
    {
     "name": "stdout",
     "output_type": "stream",
     "text": [
      "Training (4199, 256)\n",
      "(4199, 6)\n",
      "Validation (1800, 256)\n",
      "(1800, 6)\n",
      "Test (3599, 256)\n",
      "(3599, 6)\n"
     ]
    }
   ],
   "source": [
    "#final dimensions of the data\n",
    "print(\"Training\",x_train_tr.shape)\n",
    "print(y_train_hot.shape)\n",
    "print(\"Validation\",x_val_tr.shape)\n",
    "print(y_val_hot.shape)\n",
    "print(\"Test\",x_test_tr.shape)\n",
    "print(y_test_hot.shape)\n",
    "sampling_rate = x_train_tr.shape[1]"
   ]
  },
  {
   "cell_type": "markdown",
   "metadata": {},
   "source": [
    "## Model creation and training"
   ]
  },
  {
   "cell_type": "code",
   "execution_count": 20,
   "metadata": {},
   "outputs": [],
   "source": [
    "def model_training(no_of_classes,sampling_rate):\n",
    "    model = Sequential()\n",
    "\n",
    "    model.add(Dense(64, input_shape=(sampling_rate,), activation = 'relu'))\n",
    "    model.add(Dense(32, activation = 'relu'))\n",
    "    model.add(Dropout(0.6))\n",
    "    model.add(Dense(16, activation = 'relu'))\n",
    "    model.add(Dropout(0.6))\n",
    "    model.add(Dense(no_of_classes, activation = 'softmax'))\n",
    "\n",
    "    model.compile(loss='categorical_crossentropy', metrics=['accuracy'], optimizer='adam')\n",
    "    return(model)"
   ]
  },
  {
   "cell_type": "code",
   "execution_count": 21,
   "metadata": {},
   "outputs": [
    {
     "name": "stdout",
     "output_type": "stream",
     "text": [
      "Epoch 1/30\n",
      "66/66 [==============================] - 1s 10ms/step - loss: 1.7322 - accuracy: 0.2591 - val_loss: 1.2120 - val_accuracy: 0.9228\n",
      "Epoch 2/30\n",
      "66/66 [==============================] - 0s 3ms/step - loss: 1.3664 - accuracy: 0.4196 - val_loss: 0.7488 - val_accuracy: 0.9911\n",
      "Epoch 3/30\n",
      "66/66 [==============================] - 0s 3ms/step - loss: 1.1143 - accuracy: 0.5298 - val_loss: 0.4519 - val_accuracy: 0.9967\n",
      "Epoch 4/30\n",
      "66/66 [==============================] - 0s 3ms/step - loss: 0.8984 - accuracy: 0.6299 - val_loss: 0.2284 - val_accuracy: 0.9989\n",
      "Epoch 5/30\n",
      "66/66 [==============================] - 0s 4ms/step - loss: 0.7992 - accuracy: 0.6511 - val_loss: 0.1295 - val_accuracy: 0.9983\n",
      "Epoch 6/30\n",
      "66/66 [==============================] - 0s 6ms/step - loss: 0.7283 - accuracy: 0.6893 - val_loss: 0.0788 - val_accuracy: 0.9983\n",
      "Epoch 7/30\n",
      "66/66 [==============================] - 0s 6ms/step - loss: 0.6706 - accuracy: 0.7088 - val_loss: 0.0555 - val_accuracy: 0.9989\n",
      "Epoch 8/30\n",
      "66/66 [==============================] - 0s 5ms/step - loss: 0.5975 - accuracy: 0.7295 - val_loss: 0.0281 - val_accuracy: 0.9989\n",
      "Epoch 9/30\n",
      "66/66 [==============================] - 0s 5ms/step - loss: 0.5675 - accuracy: 0.7496 - val_loss: 0.0188 - val_accuracy: 0.9989\n",
      "Epoch 10/30\n",
      "66/66 [==============================] - 0s 3ms/step - loss: 0.5258 - accuracy: 0.7725 - val_loss: 0.0119 - val_accuracy: 0.9989\n",
      "Epoch 11/30\n",
      "66/66 [==============================] - 0s 3ms/step - loss: 0.5119 - accuracy: 0.7765 - val_loss: 0.0118 - val_accuracy: 0.9989\n",
      "Epoch 12/30\n",
      "66/66 [==============================] - 0s 6ms/step - loss: 0.4892 - accuracy: 0.7869 - val_loss: 0.0075 - val_accuracy: 0.9994\n",
      "Epoch 13/30\n",
      "66/66 [==============================] - 0s 7ms/step - loss: 0.4618 - accuracy: 0.7915 - val_loss: 0.0056 - val_accuracy: 0.9994\n",
      "Epoch 14/30\n",
      "66/66 [==============================] - 0s 7ms/step - loss: 0.4578 - accuracy: 0.7972 - val_loss: 0.0041 - val_accuracy: 0.9994\n",
      "Epoch 15/30\n",
      "66/66 [==============================] - 1s 8ms/step - loss: 0.4676 - accuracy: 0.7929 - val_loss: 0.0035 - val_accuracy: 1.0000\n",
      "Epoch 16/30\n",
      "66/66 [==============================] - 1s 9ms/step - loss: 0.4086 - accuracy: 0.8200 - val_loss: 0.0031 - val_accuracy: 1.0000\n",
      "Epoch 17/30\n",
      "66/66 [==============================] - 0s 5ms/step - loss: 0.3968 - accuracy: 0.8309 - val_loss: 0.0022 - val_accuracy: 1.0000\n",
      "Epoch 18/30\n",
      "66/66 [==============================] - 0s 6ms/step - loss: 0.3979 - accuracy: 0.8279 - val_loss: 0.0025 - val_accuracy: 1.0000\n",
      "Epoch 19/30\n",
      "66/66 [==============================] - 0s 7ms/step - loss: 0.4109 - accuracy: 0.8198 - val_loss: 0.0018 - val_accuracy: 1.0000\n",
      "Epoch 20/30\n",
      "66/66 [==============================] - 1s 8ms/step - loss: 0.4041 - accuracy: 0.8241 - val_loss: 0.0016 - val_accuracy: 1.0000\n",
      "Epoch 21/30\n",
      "66/66 [==============================] - 0s 7ms/step - loss: 0.3941 - accuracy: 0.8285 - val_loss: 0.0014 - val_accuracy: 1.0000\n",
      "Epoch 22/30\n",
      "66/66 [==============================] - 0s 6ms/step - loss: 0.3724 - accuracy: 0.8384 - val_loss: 0.0011 - val_accuracy: 1.0000\n",
      "Epoch 23/30\n",
      "66/66 [==============================] - 0s 3ms/step - loss: 0.3662 - accuracy: 0.8353 - val_loss: 0.0015 - val_accuracy: 1.0000\n",
      "Epoch 24/30\n",
      "66/66 [==============================] - 0s 4ms/step - loss: 0.3747 - accuracy: 0.8318 - val_loss: 8.7556e-04 - val_accuracy: 1.0000\n",
      "Epoch 25/30\n",
      "66/66 [==============================] - 0s 4ms/step - loss: 0.3467 - accuracy: 0.8513 - val_loss: 7.2703e-04 - val_accuracy: 1.0000\n",
      "Epoch 26/30\n",
      "66/66 [==============================] - 0s 5ms/step - loss: 0.3526 - accuracy: 0.8560 - val_loss: 8.1494e-04 - val_accuracy: 1.0000\n",
      "Epoch 27/30\n",
      "66/66 [==============================] - 0s 5ms/step - loss: 0.3723 - accuracy: 0.8317 - val_loss: 0.0014 - val_accuracy: 1.0000\n",
      "Epoch 28/30\n",
      "66/66 [==============================] - 0s 6ms/step - loss: 0.3393 - accuracy: 0.8529 - val_loss: 7.3661e-04 - val_accuracy: 1.0000\n",
      "Epoch 29/30\n",
      "66/66 [==============================] - 0s 5ms/step - loss: 0.3323 - accuracy: 0.8500 - val_loss: 7.1259e-04 - val_accuracy: 1.0000\n",
      "Epoch 30/30\n",
      "66/66 [==============================] - 0s 4ms/step - loss: 0.3011 - accuracy: 0.8656 - val_loss: 9.9942e-04 - val_accuracy: 1.0000\n"
     ]
    }
   ],
   "source": [
    "model = model_training(6,256)\n",
    "history = model.fit(x_train_tr, y_train_hot, batch_size=64, epochs=30, validation_data=(x_val_tr, y_val_hot))\n"
   ]
  },
  {
   "cell_type": "code",
   "execution_count": 22,
   "metadata": {},
   "outputs": [
    {
     "name": "stdout",
     "output_type": "stream",
     "text": [
      "Model: \"sequential\"\n",
      "_________________________________________________________________\n",
      "Layer (type)                 Output Shape              Param #   \n",
      "=================================================================\n",
      "dense (Dense)                (None, 64)                16448     \n",
      "_________________________________________________________________\n",
      "dense_1 (Dense)              (None, 32)                2080      \n",
      "_________________________________________________________________\n",
      "dropout (Dropout)            (None, 32)                0         \n",
      "_________________________________________________________________\n",
      "dense_2 (Dense)              (None, 16)                528       \n",
      "_________________________________________________________________\n",
      "dropout_1 (Dropout)          (None, 16)                0         \n",
      "_________________________________________________________________\n",
      "dense_3 (Dense)              (None, 6)                 102       \n",
      "=================================================================\n",
      "Total params: 19,158\n",
      "Trainable params: 19,158\n",
      "Non-trainable params: 0\n",
      "_________________________________________________________________\n"
     ]
    }
   ],
   "source": [
    "model.summary()"
   ]
  },
  {
   "cell_type": "markdown",
   "metadata": {},
   "source": [
    "## Model evaluation"
   ]
  },
  {
   "cell_type": "code",
   "execution_count": 23,
   "metadata": {},
   "outputs": [
    {
     "name": "stdout",
     "output_type": "stream",
     "text": [
      "113/113 [==============================] - 0s 1ms/step - loss: 0.0363 - accuracy: 0.9903\n",
      "Test accuracy is [0.036277420818805695, 0.9902750849723816]\n"
     ]
    }
   ],
   "source": [
    "pred_acc = model.evaluate(x_test_tr,y_test_hot)\n",
    "print(\"Test accuracy is {}\".format(pred_acc))"
   ]
  },
  {
   "cell_type": "code",
   "execution_count": 24,
   "metadata": {},
   "outputs": [],
   "source": [
    "from sklearn.metrics import confusion_matrix\n",
    "import seaborn as sn"
   ]
  },
  {
   "cell_type": "code",
   "execution_count": 25,
   "metadata": {},
   "outputs": [],
   "source": [
    "array = confusion_matrix(y_test_hot.to_numpy().argmax(axis=1), model.predict(x_test_tr).argmax(axis=1))"
   ]
  },
  {
   "cell_type": "code",
   "execution_count": 26,
   "metadata": {},
   "outputs": [
    {
     "data": {
      "text/plain": [
       "array([[567,   0,  32,   0,   0,   0],\n",
       "       [  0, 600,   0,   0,   0,   0],\n",
       "       [  3,   0, 597,   0,   0,   0],\n",
       "       [  0,   0,   0, 600,   0,   0],\n",
       "       [  0,   0,   0,   0, 600,   0],\n",
       "       [  0,   0,   0,   0,   0, 600]])"
      ]
     },
     "execution_count": 26,
     "metadata": {},
     "output_type": "execute_result"
    }
   ],
   "source": [
    "array"
   ]
  },
  {
   "cell_type": "code",
   "execution_count": 27,
   "metadata": {},
   "outputs": [
    {
     "data": {
      "text/plain": [
       "<AxesSubplot:>"
      ]
     },
     "execution_count": 27,
     "metadata": {},
     "output_type": "execute_result"
    },
    {
     "data": {
      "image/png": "[encoded data removed]",
      "text/plain": [
       "<Figure size 1080x720 with 2 Axes>"
      ]
     },
     "metadata": {
      "needs_background": "light"
     },
     "output_type": "display_data"
    }
   ],
   "source": [
    "to_cm = pd.DataFrame(array, index = [i for i in [\"Type-1\",\"Type-2\",\"Type-3\",\"Type-4\",\"Type-5\",\"Type-6\"]],\n",
    "                  columns = [i for i in [\"Type-1\",\"Type-2\",\"Type-3\",\"Type-4\",\"Type-5\",\"Type-6\"]])\n",
    "plt.figure(figsize = (15,10))\n",
    "sn.heatmap(to_cm, annot=True)"
   ]
  },
  {
   "cell_type": "code",
   "execution_count": 28,
   "metadata": {},
   "outputs": [],
   "source": [
    "model.save(\"model1.h5\")"
   ]
  },
  {
   "cell_type": "code",
   "execution_count": null,
   "metadata": {},
   "outputs": [],
   "source": []
  }
 ],
 "metadata": {
  "kernelspec": {
   "display_name": "Python 3",
   "language": "python",
   "name": "python3"
  },
  "language_info": {
   "codemirror_mode": {
    "name": "ipython",
    "version": 3
   },
   "file_extension": ".py",
   "mimetype": "text/x-python",
   "name": "python",
   "nbconvert_exporter": "python",
   "pygments_lexer": "ipython3",
   "version": "3.8.3"
  }
 },
 "nbformat": 4,
 "nbformat_minor": 4
}
