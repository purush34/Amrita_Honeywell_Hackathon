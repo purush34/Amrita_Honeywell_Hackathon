{
 "cells": [
  {
   "cell_type": "code",
   "execution_count": 29,
   "metadata": {},
   "outputs": [],
   "source": [
    "import matplotlib.pyplot as plt\n",
    "import pandas as pd\n",
    "import numpy as np"
   ]
  },
  {
   "cell_type": "code",
   "execution_count": 30,
   "metadata": {},
   "outputs": [],
   "source": [
    "data = pd.read_csv(\"Dataset/Train/Voltage_L1_DataSet1.csv\")"
   ]
  },
  {
   "cell_type": "code",
   "execution_count": 32,
   "metadata": {},
   "outputs": [
    {
     "data": {
      "text/plain": [
       "(11899, 128)"
      ]
     },
     "execution_count": 32,
     "metadata": {},
     "output_type": "execute_result"
    }
   ],
   "source": [
    "data.shape"
   ]
  },
  {
   "cell_type": "code",
   "execution_count": 33,
   "metadata": {},
   "outputs": [
    {
     "name": "stdout",
     "output_type": "stream",
     "text": [
      "128\n"
     ]
    }
   ],
   "source": [
    "header =[]\n",
    "for i in range(1,data.shape[1]+1):\n",
    "    header.append(\"Col\"+str(i))"
   ]
  },
  {
   "cell_type": "code",
   "execution_count": 34,
   "metadata": {},
   "outputs": [],
   "source": [
    "data.columns = header"
   ]
  },
  {
   "cell_type": "code",
   "execution_count": 51,
   "metadata": {},
   "outputs": [
    {
     "data": {
      "text/html": [
       "<div>\n",
       "<style scoped>\n",
       "    .dataframe tbody tr th:only-of-type {\n",
       "        vertical-align: middle;\n",
       "    }\n",
       "\n",
       "    .dataframe tbody tr th {\n",
       "        vertical-align: top;\n",
       "    }\n",
       "\n",
       "    .dataframe thead th {\n",
       "        text-align: right;\n",
       "    }\n",
       "</style>\n",
       "<table border=\"1\" class=\"dataframe\">\n",
       "  <thead>\n",
       "    <tr style=\"text-align: right;\">\n",
       "      <th></th>\n",
       "      <th>Col1</th>\n",
       "      <th>Col2</th>\n",
       "      <th>Col3</th>\n",
       "      <th>Col4</th>\n",
       "      <th>Col5</th>\n",
       "      <th>Col6</th>\n",
       "      <th>Col7</th>\n",
       "      <th>Col8</th>\n",
       "      <th>Col9</th>\n",
       "      <th>Col10</th>\n",
       "      <th>...</th>\n",
       "      <th>Col119</th>\n",
       "      <th>Col120</th>\n",
       "      <th>Col121</th>\n",
       "      <th>Col122</th>\n",
       "      <th>Col123</th>\n",
       "      <th>Col124</th>\n",
       "      <th>Col125</th>\n",
       "      <th>Col126</th>\n",
       "      <th>Col127</th>\n",
       "      <th>Col128</th>\n",
       "    </tr>\n",
       "  </thead>\n",
       "  <tbody>\n",
       "    <tr>\n",
       "      <th>0</th>\n",
       "      <td>-797.962914</td>\n",
       "      <td>-1320.199586</td>\n",
       "      <td>-1828.741445</td>\n",
       "      <td>-2319.935857</td>\n",
       "      <td>-2789.218649</td>\n",
       "      <td>-3231.111864</td>\n",
       "      <td>-3641.962908</td>\n",
       "      <td>-4018.119193</td>\n",
       "      <td>-4355.929647</td>\n",
       "      <td>-4650.829055</td>\n",
       "      <td>...</td>\n",
       "      <td>4008.077109</td>\n",
       "      <td>3632.834002</td>\n",
       "      <td>3221.982426</td>\n",
       "      <td>2780.090228</td>\n",
       "      <td>2311.720161</td>\n",
       "      <td>1821.438861</td>\n",
       "      <td>1311.983509</td>\n",
       "      <td>790.659456</td>\n",
       "      <td>262.031836</td>\n",
       "      <td>-269.335205</td>\n",
       "    </tr>\n",
       "    <tr>\n",
       "      <th>1</th>\n",
       "      <td>4387.885674</td>\n",
       "      <td>4567.747164</td>\n",
       "      <td>4693.741356</td>\n",
       "      <td>4776.824895</td>\n",
       "      <td>4824.300958</td>\n",
       "      <td>4850.777519</td>\n",
       "      <td>4862.646175</td>\n",
       "      <td>4867.211521</td>\n",
       "      <td>4866.298624</td>\n",
       "      <td>4858.081691</td>\n",
       "      <td>...</td>\n",
       "      <td>-850.916937</td>\n",
       "      <td>-165.252287</td>\n",
       "      <td>524.062959</td>\n",
       "      <td>1199.684611</td>\n",
       "      <td>1842.437384</td>\n",
       "      <td>2437.714882</td>\n",
       "      <td>2972.733259</td>\n",
       "      <td>3437.450839</td>\n",
       "      <td>3828.215741</td>\n",
       "      <td>4143.201102</td>\n",
       "    </tr>\n",
       "    <tr>\n",
       "      <th>2</th>\n",
       "      <td>-4050.074299</td>\n",
       "      <td>-4340.408587</td>\n",
       "      <td>-4576.875995</td>\n",
       "      <td>-4769.518913</td>\n",
       "      <td>-4918.338175</td>\n",
       "      <td>-5025.159834</td>\n",
       "      <td>-5100.026323</td>\n",
       "      <td>-5141.111052</td>\n",
       "      <td>-5153.892968</td>\n",
       "      <td>-5137.458861</td>\n",
       "      <td>...</td>\n",
       "      <td>1161.338395</td>\n",
       "      <td>563.322919</td>\n",
       "      <td>-47.475988</td>\n",
       "      <td>-656.447463</td>\n",
       "      <td>-1252.637741</td>\n",
       "      <td>-1825.089177</td>\n",
       "      <td>-2364.673580</td>\n",
       "      <td>-2861.346591</td>\n",
       "      <td>-3309.630078</td>\n",
       "      <td>-3706.785897</td>\n",
       "    </tr>\n",
       "    <tr>\n",
       "      <th>3</th>\n",
       "      <td>3458.450134</td>\n",
       "      <td>3686.700705</td>\n",
       "      <td>4000.773209</td>\n",
       "      <td>4392.451258</td>\n",
       "      <td>4834.343975</td>\n",
       "      <td>5269.845213</td>\n",
       "      <td>5636.871457</td>\n",
       "      <td>5876.078192</td>\n",
       "      <td>5950.944421</td>\n",
       "      <td>5841.384319</td>\n",
       "      <td>...</td>\n",
       "      <td>-1450.758930</td>\n",
       "      <td>-722.183210</td>\n",
       "      <td>67.562203</td>\n",
       "      <td>850.005032</td>\n",
       "      <td>1561.232918</td>\n",
       "      <td>2152.858410</td>\n",
       "      <td>2601.141643</td>\n",
       "      <td>2912.474970</td>\n",
       "      <td>3123.378574</td>\n",
       "      <td>3286.805684</td>\n",
       "    </tr>\n",
       "    <tr>\n",
       "      <th>4</th>\n",
       "      <td>-910.262100</td>\n",
       "      <td>-312.245917</td>\n",
       "      <td>298.552078</td>\n",
       "      <td>896.568469</td>\n",
       "      <td>1462.629392</td>\n",
       "      <td>1978.474763</td>\n",
       "      <td>2439.540162</td>\n",
       "      <td>2847.652177</td>\n",
       "      <td>3212.852886</td>\n",
       "      <td>3547.924521</td>\n",
       "      <td>...</td>\n",
       "      <td>-4805.126485</td>\n",
       "      <td>-4506.574476</td>\n",
       "      <td>-4196.154858</td>\n",
       "      <td>-3881.168803</td>\n",
       "      <td>-3560.705563</td>\n",
       "      <td>-3225.633496</td>\n",
       "      <td>-2860.433401</td>\n",
       "      <td>-2452.321914</td>\n",
       "      <td>-1991.255895</td>\n",
       "      <td>-1474.497200</td>\n",
       "    </tr>\n",
       "  </tbody>\n",
       "</table>\n",
       "<p>5 rows × 128 columns</p>\n",
       "</div>"
      ],
      "text/plain": [
       "          Col1         Col2         Col3         Col4         Col5  \\\n",
       "0  -797.962914 -1320.199586 -1828.741445 -2319.935857 -2789.218649   \n",
       "1  4387.885674  4567.747164  4693.741356  4776.824895  4824.300958   \n",
       "2 -4050.074299 -4340.408587 -4576.875995 -4769.518913 -4918.338175   \n",
       "3  3458.450134  3686.700705  4000.773209  4392.451258  4834.343975   \n",
       "4  -910.262100  -312.245917   298.552078   896.568469  1462.629392   \n",
       "\n",
       "          Col6         Col7         Col8         Col9        Col10  ...  \\\n",
       "0 -3231.111864 -3641.962908 -4018.119193 -4355.929647 -4650.829055  ...   \n",
       "1  4850.777519  4862.646175  4867.211521  4866.298624  4858.081691  ...   \n",
       "2 -5025.159834 -5100.026323 -5141.111052 -5153.892968 -5137.458861  ...   \n",
       "3  5269.845213  5636.871457  5876.078192  5950.944421  5841.384319  ...   \n",
       "4  1978.474763  2439.540162  2847.652177  3212.852886  3547.924521  ...   \n",
       "\n",
       "        Col119       Col120       Col121       Col122       Col123  \\\n",
       "0  4008.077109  3632.834002  3221.982426  2780.090228  2311.720161   \n",
       "1  -850.916937  -165.252287   524.062959  1199.684611  1842.437384   \n",
       "2  1161.338395   563.322919   -47.475988  -656.447463 -1252.637741   \n",
       "3 -1450.758930  -722.183210    67.562203   850.005032  1561.232918   \n",
       "4 -4805.126485 -4506.574476 -4196.154858 -3881.168803 -3560.705563   \n",
       "\n",
       "        Col124       Col125       Col126       Col127       Col128  \n",
       "0  1821.438861  1311.983509   790.659456   262.031836  -269.335205  \n",
       "1  2437.714882  2972.733259  3437.450839  3828.215741  4143.201102  \n",
       "2 -1825.089177 -2364.673580 -2861.346591 -3309.630078 -3706.785897  \n",
       "3  2152.858410  2601.141643  2912.474970  3123.378574  3286.805684  \n",
       "4 -3225.633496 -2860.433401 -2452.321914 -1991.255895 -1474.497200  \n",
       "\n",
       "[5 rows x 128 columns]"
      ]
     },
     "execution_count": 51,
     "metadata": {},
     "output_type": "execute_result"
    }
   ],
   "source": [
    "data.head()"
   ]
  },
  {
   "cell_type": "code",
   "execution_count": 43,
   "metadata": {},
   "outputs": [],
   "source": [
    "data.dropna(axis=0,inplace=True)"
   ]
  },
  {
   "cell_type": "code",
   "execution_count": 50,
   "metadata": {},
   "outputs": [],
   "source": [
    "data_arr = data.to_numpy()"
   ]
  },
  {
   "cell_type": "code",
   "execution_count": 53,
   "metadata": {},
   "outputs": [
    {
     "data": {
      "text/plain": [
       "[<matplotlib.lines.Line2D at 0x7f955215d370>]"
      ]
     },
     "execution_count": 53,
     "metadata": {},
     "output_type": "execute_result"
    },
    {
     "data": {
      "image/png": "[encoded data removed]",
      "text/plain": [
       "<Figure size 432x288 with 1 Axes>"
      ]
     },
     "metadata": {
      "needs_background": "light"
     },
     "output_type": "display_data"
    }
   ],
   "source": [
    "plt.plot([i for i in range(1,129)], data_arr[0][:])"
   ]
  },
  {
   "cell_type": "code",
   "execution_count": 55,
   "metadata": {},
   "outputs": [
    {
     "data": {
      "text/plain": [
       "[<matplotlib.lines.Line2D at 0x7f954e927310>]"
      ]
     },
     "execution_count": 55,
     "metadata": {},
     "output_type": "execute_result"
    },
    {
     "data": {
      "image/png": "[encoded data removed]",
      "text/plain": [
       "<Figure size 432x288 with 1 Axes>"
      ]
     },
     "metadata": {
      "needs_background": "light"
     },
     "output_type": "display_data"
    }
   ],
   "source": [
    " plt.plot([i for i in range(1,129)], data_arr[100][:])"
   ]
  },
  {
   "cell_type": "code",
   "execution_count": null,
   "metadata": {},
   "outputs": [],
   "source": []
  }
 ],
 "metadata": {
  "kernelspec": {
   "display_name": "Python 3",
   "language": "python",
   "name": "python3"
  },
  "language_info": {
   "codemirror_mode": {
    "name": "ipython",
    "version": 3
   },
   "file_extension": ".py",
   "mimetype": "text/x-python",
   "name": "python",
   "nbconvert_exporter": "python",
   "pygments_lexer": "ipython3",
   "version": "3.8.3"
  }
 },
 "nbformat": 4,
 "nbformat_minor": 4
}
