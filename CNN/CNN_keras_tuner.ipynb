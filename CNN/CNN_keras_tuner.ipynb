{
  "nbformat": 4,
  "nbformat_minor": 0,
  "metadata": {
    "colab": {
      "name": "CNN keras tuner.ipynb",
      "provenance": [],
      "collapsed_sections": []
    },
    "kernelspec": {
      "name": "python3",
      "display_name": "Python 3"
    }
  },
  "cells": [
    {
      "cell_type": "code",
      "metadata": {
        "colab": {
          "base_uri": "https://localhost:8080/"
        },
        "id": "r-YhKpLSX9Tx",
        "outputId": "4c6a67b3-3e72-4018-983c-7285b38d4683"
      },
      "source": [
        "!pip install keras-tuner"
      ],
      "execution_count": 1,
      "outputs": [
        {
          "output_type": "stream",
          "text": [
            "Requirement already satisfied: keras-tuner in /usr/local/lib/python3.7/dist-packages (1.0.2)\n",
            "Requirement already satisfied: packaging in /usr/local/lib/python3.7/dist-packages (from keras-tuner) (20.9)\n",
            "Requirement already satisfied: numpy in /usr/local/lib/python3.7/dist-packages (from keras-tuner) (1.19.5)\n",
            "Requirement already satisfied: future in /usr/local/lib/python3.7/dist-packages (from keras-tuner) (0.16.0)\n",
            "Requirement already satisfied: scipy in /usr/local/lib/python3.7/dist-packages (from keras-tuner) (1.4.1)\n",
            "Requirement already satisfied: tabulate in /usr/local/lib/python3.7/dist-packages (from keras-tuner) (0.8.9)\n",
            "Requirement already satisfied: colorama in /usr/local/lib/python3.7/dist-packages (from keras-tuner) (0.4.4)\n",
            "Requirement already satisfied: terminaltables in /usr/local/lib/python3.7/dist-packages (from keras-tuner) (3.1.0)\n",
            "Requirement already satisfied: requests in /usr/local/lib/python3.7/dist-packages (from keras-tuner) (2.23.0)\n",
            "Requirement already satisfied: scikit-learn in /usr/local/lib/python3.7/dist-packages (from keras-tuner) (0.22.2.post1)\n",
            "Requirement already satisfied: tqdm in /usr/local/lib/python3.7/dist-packages (from keras-tuner) (4.41.1)\n",
            "Requirement already satisfied: pyparsing>=2.0.2 in /usr/local/lib/python3.7/dist-packages (from packaging->keras-tuner) (2.4.7)\n",
            "Requirement already satisfied: urllib3!=1.25.0,!=1.25.1,<1.26,>=1.21.1 in /usr/local/lib/python3.7/dist-packages (from requests->keras-tuner) (1.24.3)\n",
            "Requirement already satisfied: idna<3,>=2.5 in /usr/local/lib/python3.7/dist-packages (from requests->keras-tuner) (2.10)\n",
            "Requirement already satisfied: certifi>=2017.4.17 in /usr/local/lib/python3.7/dist-packages (from requests->keras-tuner) (2020.12.5)\n",
            "Requirement already satisfied: chardet<4,>=3.0.2 in /usr/local/lib/python3.7/dist-packages (from requests->keras-tuner) (3.0.4)\n",
            "Requirement already satisfied: joblib>=0.11 in /usr/local/lib/python3.7/dist-packages (from scikit-learn->keras-tuner) (1.0.1)\n"
          ],
          "name": "stdout"
        }
      ]
    },
    {
      "cell_type": "code",
      "metadata": {
        "id": "xc2lLmOnaRux"
      },
      "source": [
        "import matplotlib.pyplot as plt\r\n",
        "import pandas as pd\r\n",
        "import numpy as np\r\n",
        "import tensorflow as tf\r\n",
        "from tensorflow import keras"
      ],
      "execution_count": 20,
      "outputs": []
    },
    {
      "cell_type": "code",
      "metadata": {
        "id": "wdfxS1PFah-Q"
      },
      "source": [
        "x_train = pd.read_csv(\"/content/drive/MyDrive/DataForCheckpoint2/DataForCheckpoint2/Voltage_L1_train.csv\")\r\n",
        "y_train = pd.read_csv(\"/content/drive/MyDrive/DataForCheckpoint2/DataForCheckpoint2/output_train.csv\")\r\n",
        "x_test = pd.read_csv(\"/content/drive/MyDrive/DataForCheckpoint2/DataForCheckpoint2/Voltage_L1_test.csv\")\r\n",
        "y_test = pd.read_csv(\"/content/drive/MyDrive/DataForCheckpoint2/DataForCheckpoint2/output_test.csv\")"
      ],
      "execution_count": 66,
      "outputs": []
    },
    {
      "cell_type": "code",
      "metadata": {
        "colab": {
          "base_uri": "https://localhost:8080/"
        },
        "id": "ypvIgoFuax0w",
        "outputId": "b294ffc4-9d76-453e-d5a4-44aa81a65a5e"
      },
      "source": [
        "print(\"x_train\",x_train.shape)\r\n",
        "print(\"y_train\",y_train.shape)\r\n",
        "print(\"x_test\",x_test.shape)\r\n",
        "print(\"y_test\",y_test.shape)"
      ],
      "execution_count": 67,
      "outputs": [
        {
          "output_type": "stream",
          "text": [
            "x_train (5999, 256)\n",
            "y_train (5999, 1)\n",
            "x_test (3599, 256)\n",
            "y_test (3599, 1)\n"
          ],
          "name": "stdout"
        }
      ]
    },
    {
      "cell_type": "code",
      "metadata": {
        "id": "ey-we56JbE7W"
      },
      "source": [
        "header =[]\r\n",
        "for i in range(1,x_train.shape[1]+1):\r\n",
        "    header.append(\"Col\"+str(i))\r\n",
        "  \r\n",
        "x_train.columns = header\r\n",
        "x_test.columns = header"
      ],
      "execution_count": 68,
      "outputs": []
    },
    {
      "cell_type": "code",
      "metadata": {
        "id": "xw_Z-p7mbtr_"
      },
      "source": [
        "header = [\"output\"]\r\n",
        "y_train.columns = header\r\n",
        "y_test.columns = header"
      ],
      "execution_count": 69,
      "outputs": []
    },
    {
      "cell_type": "code",
      "metadata": {
        "colab": {
          "base_uri": "https://localhost:8080/"
        },
        "id": "Gtwj2jVNbySp",
        "outputId": "e5a995b5-7e10-4e68-953f-818dbc9a4bdc"
      },
      "source": [
        "x_train.shape"
      ],
      "execution_count": 25,
      "outputs": [
        {
          "output_type": "execute_result",
          "data": {
            "text/plain": [
              "(5999, 256)"
            ]
          },
          "metadata": {
            "tags": []
          },
          "execution_count": 25
        }
      ]
    },
    {
      "cell_type": "code",
      "metadata": {
        "colab": {
          "base_uri": "https://localhost:8080/"
        },
        "id": "NDvCbERJ3GPA",
        "outputId": "b3c729c7-3dde-4051-a0fe-f4c6f17b9e02"
      },
      "source": [
        "x_train.shape"
      ],
      "execution_count": 26,
      "outputs": [
        {
          "output_type": "execute_result",
          "data": {
            "text/plain": [
              "(5999, 256)"
            ]
          },
          "metadata": {
            "tags": []
          },
          "execution_count": 26
        }
      ]
    },
    {
      "cell_type": "code",
      "metadata": {
        "id": "3cSiWWIob7-n"
      },
      "source": [
        "x_train = np.asarray(x_train).reshape(x_train.shape[0],x_train.shape[1], 1)\r\n",
        "x_test = np.asarray(x_test).reshape(x_test.shape[0],x_test.shape[1], 1)"
      ],
      "execution_count": 70,
      "outputs": []
    },
    {
      "cell_type": "code",
      "metadata": {
        "id": "cXVqsn6ccYAj"
      },
      "source": [
        "def build_model(hp):  \r\n",
        "  model = keras.Sequential([\r\n",
        "    keras.layers.Conv1D(\r\n",
        "        filters=hp.Int('conv_1_filter', min_value=32, max_value=128, step=16),\r\n",
        "        kernel_size=hp.Choice('conv_1_kernel', values = [3,5]),\r\n",
        "        activation='relu',\r\n",
        "        input_shape=(256,1)\r\n",
        "    ),\r\n",
        "    keras.layers.Conv1D(\r\n",
        "        filters=hp.Int('conv_2_filter', min_value=32, max_value=128, step=16),\r\n",
        "        kernel_size=hp.Choice('conv_2_kernel', values = [3,5]),\r\n",
        "        activation='relu'\r\n",
        "    ),\r\n",
        "    keras.layers.Flatten(),\r\n",
        "    keras.layers.Dense(\r\n",
        "        units=hp.Int('dense_1_units', min_value=32, max_value=128, step=16),\r\n",
        "        activation='relu'\r\n",
        "    ),\r\n",
        "    keras.layers.Dense(7, activation='softmax')\r\n",
        "  ])\r\n",
        "  \r\n",
        "  model.compile(optimizer=keras.optimizers.Adam(hp.Choice('learning_rate', values=[1e-2, 1e-3])),\r\n",
        "              loss='sparse_categorical_crossentropy',\r\n",
        "              metrics=['accuracy'])\r\n",
        "  \r\n",
        "  return model"
      ],
      "execution_count": 72,
      "outputs": []
    },
    {
      "cell_type": "code",
      "metadata": {
        "id": "hB697LkOds6a"
      },
      "source": [
        "from kerastuner import RandomSearch\r\n",
        "from kerastuner.engine.hyperparameters import HyperParameters"
      ],
      "execution_count": 73,
      "outputs": []
    },
    {
      "cell_type": "code",
      "metadata": {
        "id": "xBSdz244dx14"
      },
      "source": [
        "tuner_search=RandomSearch(build_model,\r\n",
        "                          objective='val_accuracy',\r\n",
        "                          max_trials=5,directory='nikhil',project_name=\"nik\")"
      ],
      "execution_count": 75,
      "outputs": []
    },
    {
      "cell_type": "code",
      "metadata": {
        "colab": {
          "base_uri": "https://localhost:8080/"
        },
        "id": "b26iQQGc39W1",
        "outputId": "ca1e42d7-0f73-458a-e187-402f91c79ad6"
      },
      "source": [
        "tuner_search.search(x_train,y_train,epochs=3,validation_split=0.1)"
      ],
      "execution_count": 76,
      "outputs": [
        {
          "output_type": "stream",
          "text": [
            "Trial 5 Complete [00h 00m 19s]\n",
            "val_accuracy: 0.0\n",
            "\n",
            "Best val_accuracy So Far: 1.0\n",
            "Total elapsed time: 00h 02m 33s\n",
            "INFO:tensorflow:Oracle triggered exit\n"
          ],
          "name": "stdout"
        }
      ]
    },
    {
      "cell_type": "code",
      "metadata": {
        "id": "JNSvlbTyHsm7"
      },
      "source": [
        "model=tuner_search.get_best_models(num_models=1)[0]"
      ],
      "execution_count": 77,
      "outputs": []
    },
    {
      "cell_type": "code",
      "metadata": {
        "colab": {
          "base_uri": "https://localhost:8080/"
        },
        "id": "Vy09jh5ZHw-p",
        "outputId": "20cd5e89-e925-4149-f8ca-c7b77a3618ec"
      },
      "source": [
        "model.summary()"
      ],
      "execution_count": 78,
      "outputs": [
        {
          "output_type": "stream",
          "text": [
            "Model: \"sequential\"\n",
            "_________________________________________________________________\n",
            "Layer (type)                 Output Shape              Param #   \n",
            "=================================================================\n",
            "conv1d (Conv1D)              (None, 254, 48)           192       \n",
            "_________________________________________________________________\n",
            "conv1d_1 (Conv1D)            (None, 252, 112)          16240     \n",
            "_________________________________________________________________\n",
            "flatten (Flatten)            (None, 28224)             0         \n",
            "_________________________________________________________________\n",
            "dense (Dense)                (None, 48)                1354800   \n",
            "_________________________________________________________________\n",
            "dense_1 (Dense)              (None, 7)                 343       \n",
            "=================================================================\n",
            "Total params: 1,371,575\n",
            "Trainable params: 1,371,575\n",
            "Non-trainable params: 0\n",
            "_________________________________________________________________\n"
          ],
          "name": "stdout"
        }
      ]
    },
    {
      "cell_type": "code",
      "metadata": {
        "colab": {
          "base_uri": "https://localhost:8080/"
        },
        "id": "DkfUBSjDH0JX",
        "outputId": "7ebdae9a-a59e-4b95-f098-dfa8b4763d66"
      },
      "source": [
        "model.fit(x_train, y_train, epochs=10, validation_split=0.1, initial_epoch=3)"
      ],
      "execution_count": 79,
      "outputs": [
        {
          "output_type": "stream",
          "text": [
            "Epoch 4/10\n",
            "169/169 [==============================] - 8s 43ms/step - loss: 0.2097 - accuracy: 0.9394 - val_loss: 1.1085e-06 - val_accuracy: 1.0000\n",
            "Epoch 5/10\n",
            "169/169 [==============================] - 7s 42ms/step - loss: 0.0518 - accuracy: 0.9848 - val_loss: 0.0113 - val_accuracy: 0.9950\n",
            "Epoch 6/10\n",
            "169/169 [==============================] - 7s 42ms/step - loss: 0.0678 - accuracy: 0.9815 - val_loss: 9.1460e-04 - val_accuracy: 1.0000\n",
            "Epoch 7/10\n",
            "169/169 [==============================] - 7s 42ms/step - loss: 0.0465 - accuracy: 0.9899 - val_loss: 7.0308e-04 - val_accuracy: 1.0000\n",
            "Epoch 8/10\n",
            "169/169 [==============================] - 7s 42ms/step - loss: 0.0283 - accuracy: 0.9933 - val_loss: 0.0041 - val_accuracy: 0.9983\n",
            "Epoch 9/10\n",
            "169/169 [==============================] - 7s 42ms/step - loss: 0.0152 - accuracy: 0.9969 - val_loss: 2.9561e-04 - val_accuracy: 1.0000\n",
            "Epoch 10/10\n",
            "169/169 [==============================] - 7s 42ms/step - loss: 0.0255 - accuracy: 0.9941 - val_loss: 0.0000e+00 - val_accuracy: 1.0000\n"
          ],
          "name": "stdout"
        },
        {
          "output_type": "execute_result",
          "data": {
            "text/plain": [
              "<tensorflow.python.keras.callbacks.History at 0x7f3a407a7650>"
            ]
          },
          "metadata": {
            "tags": []
          },
          "execution_count": 79
        }
      ]
    },
    {
      "cell_type": "code",
      "metadata": {
        "colab": {
          "base_uri": "https://localhost:8080/"
        },
        "id": "_HGpWpDoIL6I",
        "outputId": "e3c0c227-2ec8-43bf-c6e9-8338c18b5d99"
      },
      "source": [
        "pred_acc = model.evaluate(x_test,y_test)\r\n",
        "print(\"Test accuracy is {}\".format(pred_acc))"
      ],
      "execution_count": 80,
      "outputs": [
        {
          "output_type": "stream",
          "text": [
            "113/113 [==============================] - 1s 11ms/step - loss: 0.1849 - accuracy: 0.9675\n",
            "Test accuracy is [0.18490825593471527, 0.9674909710884094]\n"
          ],
          "name": "stdout"
        }
      ]
    }
  ]
}