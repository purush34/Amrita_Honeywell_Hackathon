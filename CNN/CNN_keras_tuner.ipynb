{
 "cells": [
  {
   "cell_type": "code",
   "execution_count": 1,
   "metadata": {
    "id": "xc2lLmOnaRux"
   },
   "outputs": [],
   "source": [
    "import matplotlib.pyplot as plt\n",
    "import pandas as pd\n",
    "import numpy as np\n",
    "import tensorflow as tf\n",
    "from sklearn.preprocessing import StandardScaler\n",
    "from tensorflow.keras.layers import Dense, Dropout, Activation\n",
    "from tensorflow import keras\n",
    "from scipy.fft import fft,fftfreq"
   ]
  },
  {
   "cell_type": "code",
   "execution_count": 2,
   "metadata": {
    "id": "wdfxS1PFah-Q"
   },
   "outputs": [],
   "source": [
    "x_train = pd.read_csv(\"../Dataset2/Train/Voltage_L1_train.csv\")\n",
    "y_train = pd.read_csv(\"../Dataset2/Train/output_train.csv\")\n",
    "x_test = pd.read_csv(\"../Dataset2/Test/Voltage_L1_test.csv\")\n",
    "y_test = pd.read_csv(\"../Dataset2/Test/output_test.csv\")"
   ]
  },
  {
   "cell_type": "code",
   "execution_count": 3,
   "metadata": {
    "colab": {
     "base_uri": "https://localhost:8080/"
    },
    "id": "ypvIgoFuax0w",
    "outputId": "ddfce1d1-5edf-46c7-e77e-a4e550a36747"
   },
   "outputs": [
    {
     "name": "stdout",
     "output_type": "stream",
     "text": [
      "x_train (5999, 256)\n",
      "y_train (5999, 1)\n",
      "x_test (3599, 256)\n",
      "y_test (3599, 1)\n"
     ]
    }
   ],
   "source": [
    "print(\"x_train\",x_train.shape)\n",
    "print(\"y_train\",y_train.shape)\n",
    "print(\"x_test\",x_test.shape)\n",
    "print(\"y_test\",y_test.shape)"
   ]
  },
  {
   "cell_type": "code",
   "execution_count": 4,
   "metadata": {
    "id": "ey-we56JbE7W"
   },
   "outputs": [],
   "source": [
    "header =[]\n",
    "for i in range(1,x_train.shape[1]+1):\n",
    "    header.append(\"Col\"+str(i))\n",
    "  \n",
    "x_train.columns = header\n",
    "x_test.columns = header"
   ]
  },
  {
   "cell_type": "code",
   "execution_count": 5,
   "metadata": {
    "id": "xw_Z-p7mbtr_"
   },
   "outputs": [],
   "source": [
    "header = [\"output\"]\n",
    "y_train.columns = header\n",
    "y_test.columns = header"
   ]
  },
  {
   "cell_type": "code",
   "execution_count": 6,
   "metadata": {},
   "outputs": [],
   "source": [
    "from sklearn.model_selection import train_test_split\n",
    "x_train, x_val, y_train, y_val = train_test_split(x_train, y_train, test_size=0.20, random_state=42)"
   ]
  },
  {
   "cell_type": "code",
   "execution_count": 7,
   "metadata": {},
   "outputs": [],
   "source": [
    "y_train_hot = pd.get_dummies(y_train['output'])\n",
    "y_test_hot = pd.get_dummies(y_test['output'])\n",
    "y_val_hot = pd.get_dummies(y_val['output'])"
   ]
  },
  {
   "cell_type": "code",
   "execution_count": 8,
   "metadata": {},
   "outputs": [
    {
     "name": "stdout",
     "output_type": "stream",
     "text": [
      "y_train: (4799, 6)\n",
      "y_test: (3599, 6)\n",
      "y_val: (1200, 6)\n"
     ]
    }
   ],
   "source": [
    "y_train = y_train_hot.to_numpy()\n",
    "y_test = y_test_hot.to_numpy()\n",
    "y_val = y_val_hot.to_numpy()\n",
    "print(\"y_train:\",y_train.shape)\n",
    "print(\"y_test:\",y_test.shape)\n",
    "print(\"y_val:\",y_val.shape)\n",
    "no_of_classes = y_train.shape[1]"
   ]
  },
  {
   "cell_type": "code",
   "execution_count": 9,
   "metadata": {},
   "outputs": [
    {
     "name": "stderr",
     "output_type": "stream",
     "text": [
      "<ipython-input-9-8af77d55593a>:5: ComplexWarning: Casting complex values to real discards the imaginary part\n",
      "  x_train[i][:] = fft(x_train[i][:])\n",
      "<ipython-input-9-8af77d55593a>:8: ComplexWarning: Casting complex values to real discards the imaginary part\n",
      "  x_test[i][:] = fft(x_test[i][:])\n",
      "<ipython-input-9-8af77d55593a>:11: ComplexWarning: Casting complex values to real discards the imaginary part\n",
      "  x_val[i][:] = fft(x_val[i][:])\n"
     ]
    }
   ],
   "source": [
    "x_train = x_train.to_numpy()\n",
    "x_test = x_test.to_numpy()\n",
    "x_val = x_val.to_numpy()\n",
    "for i in range(0,x_train.shape[0]):\n",
    "    x_train[i][:] = fft(x_train[i][:])\n",
    "    \n",
    "for i in range(0,x_test.shape[0]):\n",
    "    x_test[i][:] = fft(x_test[i][:])\n",
    "\n",
    "for i in range(0,x_val.shape[0]):\n",
    "    x_val[i][:] = fft(x_val[i][:])"
   ]
  },
  {
   "cell_type": "code",
   "execution_count": 10,
   "metadata": {},
   "outputs": [],
   "source": [
    "transform = StandardScaler()\n",
    "x_train_tr = transform.fit_transform(x_train)\n",
    "x_test_tr = transform.fit_transform(x_test)\n",
    "x_val_tr = transform.fit_transform(x_val)"
   ]
  },
  {
   "cell_type": "code",
   "execution_count": 11,
   "metadata": {},
   "outputs": [],
   "source": [
    "x_train = x_train.reshape(x_train_tr.shape[0],x_train_tr.shape[1], 1)\n",
    "x_test = x_test.reshape(x_test_tr.shape[0],x_test_tr.shape[1], 1)\n",
    "x_val = x_val.reshape(x_val_tr.shape[0],x_val_tr.shape[1], 1)"
   ]
  },
  {
   "cell_type": "code",
   "execution_count": 12,
   "metadata": {},
   "outputs": [
    {
     "name": "stdout",
     "output_type": "stream",
     "text": [
      "Training (4799, 256, 1)\n",
      "(4799, 6)\n",
      "Validation (1200, 256, 1)\n",
      "(1200, 6)\n",
      "Test (3599, 256, 1)\n",
      "(3599, 6)\n"
     ]
    }
   ],
   "source": [
    "print(\"Training\",x_train.shape)\n",
    "print(y_train.shape)\n",
    "print(\"Validation\",x_val.shape)\n",
    "print(y_val.shape)\n",
    "print(\"Test\",x_test.shape)\n",
    "print(y_test.shape)\n",
    "sampling_rate = x_train.shape[1]"
   ]
  },
  {
   "cell_type": "code",
   "execution_count": 13,
   "metadata": {
    "id": "cXVqsn6ccYAj"
   },
   "outputs": [],
   "source": [
    "def build_model(hp):  \n",
    "  model = keras.Sequential([\n",
    "    keras.layers.Conv1D(\n",
    "        filters=hp.Int('conv_1_filter', min_value=64, max_value=256),\n",
    "        kernel_size=hp.Choice('conv_1_kernel', values = [3,5]),\n",
    "        activation='relu',\n",
    "        input_shape=(256,1)\n",
    "    ),\n",
    "    keras.layers.BatchNormalization(),\n",
    "    keras.layers.MaxPooling1D(pool_size=(2)),\n",
    "    keras.layers.Conv1D(\n",
    "        filters=hp.Int('conv_2_filter', min_value=64, max_value=256),\n",
    "        kernel_size=hp.Choice('conv_2_kernel', values = [3,5]),\n",
    "        activation='relu'\n",
    "    ),\n",
    "    keras.layers.BatchNormalization(),\n",
    "    keras.layers.MaxPooling1D(pool_size=(2)),\n",
    "    keras.layers.Flatten(),\n",
    "    keras.layers.Dense(\n",
    "        units=hp.Int('dense_1_units', min_value=16, max_value=128),\n",
    "        activation='relu'\n",
    "    ),\n",
    "    keras.layers.Dense(\n",
    "        units=hp.Int('dense_1_units', min_value=16, max_value=128),\n",
    "        activation='relu'\n",
    "    ),\n",
    "    keras.layers.Dense(\n",
    "        units=hp.Int('dense_1_units', min_value=16, max_value=128),\n",
    "        activation='relu'\n",
    "    ),\n",
    "    keras.layers.Dense(6, activation='softmax')\n",
    "  ])\n",
    "  \n",
    "  model.compile(optimizer='adam',\n",
    "              loss='categorical_crossentropy',\n",
    "              metrics=['accuracy'])\n",
    "  \n",
    "  return model"
   ]
  },
  {
   "cell_type": "code",
   "execution_count": 14,
   "metadata": {
    "id": "hB697LkOds6a"
   },
   "outputs": [],
   "source": [
    "from kerastuner import RandomSearch\n",
    "from kerastuner.engine.hyperparameters import HyperParameters"
   ]
  },
  {
   "cell_type": "code",
   "execution_count": 16,
   "metadata": {
    "id": "xBSdz244dx14"
   },
   "outputs": [],
   "source": [
    "tuner_search=RandomSearch(build_model,\n",
    "                          objective='val_accuracy',\n",
    "                          max_trials=5,directory='content',project_name=\"Classification\")"
   ]
  },
  {
   "cell_type": "code",
   "execution_count": 17,
   "metadata": {
    "colab": {
     "base_uri": "https://localhost:8080/"
    },
    "id": "b26iQQGc39W1",
    "outputId": "7f7cf37a-954b-493a-8afd-9d1cd7071add"
   },
   "outputs": [
    {
     "name": "stdout",
     "output_type": "stream",
     "text": [
      "Trial 5 Complete [00h 00m 59s]\n",
      "val_accuracy: 0.9633333086967468\n",
      "\n",
      "Best val_accuracy So Far: 0.9633333086967468\n",
      "Total elapsed time: 00h 09m 46s\n",
      "INFO:tensorflow:Oracle triggered exit\n"
     ]
    }
   ],
   "source": [
    "tuner_search.search(x_train,y_train,epochs=10,validation_data=(x_val, y_val))"
   ]
  },
  {
   "cell_type": "code",
   "execution_count": 18,
   "metadata": {
    "id": "JNSvlbTyHsm7"
   },
   "outputs": [],
   "source": [
    "model=tuner_search.get_best_models(num_models=1)[0]"
   ]
  },
  {
   "cell_type": "code",
   "execution_count": 19,
   "metadata": {
    "colab": {
     "base_uri": "https://localhost:8080/"
    },
    "id": "Vy09jh5ZHw-p",
    "outputId": "24a17051-5400-4b39-f0a3-4ad8b7149df3"
   },
   "outputs": [
    {
     "name": "stdout",
     "output_type": "stream",
     "text": [
      "Model: \"sequential\"\n",
      "_________________________________________________________________\n",
      "Layer (type)                 Output Shape              Param #   \n",
      "=================================================================\n",
      "conv1d (Conv1D)              (None, 254, 242)          968       \n",
      "_________________________________________________________________\n",
      "batch_normalization (BatchNo (None, 254, 242)          968       \n",
      "_________________________________________________________________\n",
      "max_pooling1d (MaxPooling1D) (None, 127, 242)          0         \n",
      "_________________________________________________________________\n",
      "conv1d_1 (Conv1D)            (None, 125, 100)          72700     \n",
      "_________________________________________________________________\n",
      "batch_normalization_1 (Batch (None, 125, 100)          400       \n",
      "_________________________________________________________________\n",
      "max_pooling1d_1 (MaxPooling1 (None, 62, 100)           0         \n",
      "_________________________________________________________________\n",
      "flatten (Flatten)            (None, 6200)              0         \n",
      "_________________________________________________________________\n",
      "dense (Dense)                (None, 65)                403065    \n",
      "_________________________________________________________________\n",
      "dense_1 (Dense)              (None, 65)                4290      \n",
      "_________________________________________________________________\n",
      "dense_2 (Dense)              (None, 65)                4290      \n",
      "_________________________________________________________________\n",
      "dense_3 (Dense)              (None, 6)                 396       \n",
      "=================================================================\n",
      "Total params: 487,077\n",
      "Trainable params: 486,393\n",
      "Non-trainable params: 684\n",
      "_________________________________________________________________\n"
     ]
    }
   ],
   "source": [
    "model.summary()"
   ]
  },
  {
   "cell_type": "code",
   "execution_count": 20,
   "metadata": {
    "colab": {
     "base_uri": "https://localhost:8080/"
    },
    "id": "DkfUBSjDH0JX",
    "outputId": "0ec30fe3-6e9e-4101-8575-07398332dbe8"
   },
   "outputs": [
    {
     "name": "stdout",
     "output_type": "stream",
     "text": [
      "Epoch 11/30\n",
      "150/150 [==============================] - 14s 89ms/step - loss: 0.0979 - accuracy: 0.9725 - val_loss: 0.2328 - val_accuracy: 0.9525\n",
      "Epoch 12/30\n",
      "150/150 [==============================] - 11s 73ms/step - loss: 0.1127 - accuracy: 0.9685 - val_loss: 0.1608 - val_accuracy: 0.9608\n",
      "Epoch 13/30\n",
      "150/150 [==============================] - 13s 89ms/step - loss: 0.1007 - accuracy: 0.9736 - val_loss: 0.1634 - val_accuracy: 0.9600\n",
      "Epoch 14/30\n",
      "150/150 [==============================] - 13s 86ms/step - loss: 0.0826 - accuracy: 0.9766 - val_loss: 0.1616 - val_accuracy: 0.9592\n",
      "Epoch 15/30\n",
      "150/150 [==============================] - 13s 88ms/step - loss: 0.0635 - accuracy: 0.9821 - val_loss: 0.1741 - val_accuracy: 0.9608\n",
      "Epoch 16/30\n",
      "150/150 [==============================] - 13s 88ms/step - loss: 0.0610 - accuracy: 0.9822 - val_loss: 0.1615 - val_accuracy: 0.9600\n",
      "Epoch 17/30\n",
      "150/150 [==============================] - 13s 90ms/step - loss: 0.0648 - accuracy: 0.9814 - val_loss: 0.1698 - val_accuracy: 0.9625\n",
      "Epoch 18/30\n",
      "150/150 [==============================] - 13s 88ms/step - loss: 0.0662 - accuracy: 0.9805 - val_loss: 0.1869 - val_accuracy: 0.9592\n",
      "Epoch 19/30\n",
      "150/150 [==============================] - 13s 89ms/step - loss: 0.0465 - accuracy: 0.9848 - val_loss: 0.1937 - val_accuracy: 0.9583\n",
      "Epoch 20/30\n",
      "150/150 [==============================] - 13s 89ms/step - loss: 0.0401 - accuracy: 0.9888 - val_loss: 0.2238 - val_accuracy: 0.9558\n",
      "Epoch 21/30\n",
      "150/150 [==============================] - 13s 89ms/step - loss: 0.0410 - accuracy: 0.9864 - val_loss: 0.1963 - val_accuracy: 0.9558\n",
      "Epoch 22/30\n",
      "150/150 [==============================] - 13s 89ms/step - loss: 0.0371 - accuracy: 0.9903 - val_loss: 0.2616 - val_accuracy: 0.9533\n",
      "Epoch 23/30\n",
      "150/150 [==============================] - 13s 89ms/step - loss: 0.0503 - accuracy: 0.9831 - val_loss: 0.2539 - val_accuracy: 0.9608\n",
      "Epoch 24/30\n",
      "150/150 [==============================] - 13s 88ms/step - loss: 0.0280 - accuracy: 0.9922 - val_loss: 0.2403 - val_accuracy: 0.9517\n",
      "Epoch 25/30\n",
      "150/150 [==============================] - 13s 89ms/step - loss: 0.0231 - accuracy: 0.9934 - val_loss: 0.2787 - val_accuracy: 0.9558\n",
      "Epoch 26/30\n",
      "150/150 [==============================] - 13s 88ms/step - loss: 0.0279 - accuracy: 0.9919 - val_loss: 0.2413 - val_accuracy: 0.9533\n",
      "Epoch 27/30\n",
      "150/150 [==============================] - 13s 89ms/step - loss: 0.0254 - accuracy: 0.9934 - val_loss: 0.2681 - val_accuracy: 0.9433\n",
      "Epoch 28/30\n",
      "150/150 [==============================] - 13s 89ms/step - loss: 0.0581 - accuracy: 0.9827 - val_loss: 0.1782 - val_accuracy: 0.9608\n",
      "Epoch 29/30\n",
      "150/150 [==============================] - 13s 88ms/step - loss: 0.0390 - accuracy: 0.9880 - val_loss: 0.2406 - val_accuracy: 0.9325\n",
      "Epoch 30/30\n",
      "150/150 [==============================] - 13s 89ms/step - loss: 0.0290 - accuracy: 0.9889 - val_loss: 0.2090 - val_accuracy: 0.9625\n"
     ]
    },
    {
     "data": {
      "text/plain": [
       "<tensorflow.python.keras.callbacks.History at 0x7f745c499fd0>"
      ]
     },
     "execution_count": 20,
     "metadata": {},
     "output_type": "execute_result"
    }
   ],
   "source": [
    "model.fit(x_train, y_train, epochs=30, validation_data=(x_val, y_val), initial_epoch=10)"
   ]
  },
  {
   "cell_type": "code",
   "execution_count": 21,
   "metadata": {
    "colab": {
     "base_uri": "https://localhost:8080/"
    },
    "id": "_HGpWpDoIL6I",
    "outputId": "fd4a878a-66f2-4e97-c256-c8e43930dafc"
   },
   "outputs": [
    {
     "name": "stdout",
     "output_type": "stream",
     "text": [
      "113/113 [==============================] - 2s 15ms/step - loss: 0.1303 - accuracy: 0.9744\n",
      "Test accuracy is [0.13032472133636475, 0.9744373559951782]\n"
     ]
    }
   ],
   "source": [
    "pred_acc = model.evaluate(x_test,y_test)\n",
    "print(\"Test accuracy is {}\".format(pred_acc))"
   ]
  },
  {
   "cell_type": "code",
   "execution_count": 22,
   "metadata": {
    "id": "7NCSWAbeJSNw"
   },
   "outputs": [],
   "source": [
    "model.save(\"CNN_kerastuner_model.h5\")"
   ]
  },
  {
   "cell_type": "code",
   "execution_count": null,
   "metadata": {},
   "outputs": [],
   "source": []
  }
 ],
 "metadata": {
  "colab": {
   "collapsed_sections": [],
   "name": "CNN keras tuner.ipynb",
   "provenance": []
  },
  "kernelspec": {
   "display_name": "Python 3",
   "language": "python",
   "name": "python3"
  },
  "language_info": {
   "codemirror_mode": {
    "name": "ipython",
    "version": 3
   },
   "file_extension": ".py",
   "mimetype": "text/x-python",
   "name": "python",
   "nbconvert_exporter": "python",
   "pygments_lexer": "ipython3",
   "version": "3.8.3"
  }
 },
 "nbformat": 4,
 "nbformat_minor": 1
}
